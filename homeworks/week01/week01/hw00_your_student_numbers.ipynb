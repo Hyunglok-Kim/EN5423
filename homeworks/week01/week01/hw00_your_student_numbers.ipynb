{
  "nbformat": 4,
  "nbformat_minor": 0,
  "metadata": {
    "colab": {
      "provenance": []
    },
    "kernelspec": {
      "name": "python3",
      "display_name": "Python 3"
    },
    "language_info": {
      "name": "python"
    }
  },
  "cells": [
    {
      "cell_type": "markdown",
      "source": [
        "#**Double click to edit.**\n",
        "\n",
        "You are welcome to utilize search engines such as Google or Bing, or even employ GPT programs similar to ChatGPT, as learning aids. However, in the event that you do use these resources, please remember to acknowledge their use and provide proper sources for reference. It's important to note that heavy reliance on these external sources might not be advisable, ***as the quiz will likely be conducted offline***."
      ],
      "metadata": {
        "id": "qbyp74kuNPuw"
      }
    },
    {
      "cell_type": "markdown",
      "source": [
        "\n",
        "\n",
        "#Problem 0.1: Who are you?\n",
        "\n",
        "a. What is your name?\n",
        "\n",
        "```\n",
        "put your answer here.\n",
        "```\n",
        "b. What do you hope to do after garduation (be specific)?\n",
        "\n",
        "```\n",
        "put your answer here.\n",
        "```\n",
        "c. List 3 interesting things about yourself.\n",
        "```\n",
        "put your answer here.\n",
        "```\n",
        "\n",
        "d. Who is your advisor?\n",
        "```\n",
        "put your answer here.\n",
        "```\n",
        "---"
      ],
      "metadata": {
        "id": "eEiUh2OeC8G2"
      }
    },
    {
      "cell_type": "markdown",
      "source": [
        "#Problem 0.2: About the course\n",
        "\n",
        "a. What are you most excited to learn in this course?\n",
        "```\n",
        "put your answer here.\n",
        "```\n",
        "b. What pre-req topics (e.g., math, coding, probability, statistics) are your weakest?\n",
        "```\n",
        "put your answer here.\n",
        "```\n",
        "c. Waht pre-req topics are you strongest?\n",
        "```\n",
        "put your answer here.\n",
        "```\n",
        "d. Would you rather see the mathematical detials or coding details of a method/algorithm?\n",
        "\n",
        "---"
      ],
      "metadata": {
        "id": "Ce50gThAKkbm"
      }
    },
    {
      "cell_type": "markdown",
      "source": [
        "#Problem 0.3: Math Notation\n",
        "\n",
        "a. What are the equation for the least squares coefficients in linear regression (in matrix notation)? Use $X$ for the design/predictor matrix, and $Y$ the vector of resonses.\n",
        "\n",
        "\n",
        "hint1: https://colab.research.google.com/notebooks/markdown_guide.ipynb#scrollTo=Lhfnlq1Surtk\n",
        "\n",
        "hint2: https://global.oup.com/booksites/content/0199268010/samplesec3\n",
        "\n",
        "hint3: Google it..\n",
        "\n",
        "<br>\n",
        "\n",
        "b. Consider a dataset consisting of drought duration (days) in Gwangju province, represented as $x_1$, $x_2$, ..., $x_n$. We feel comfortable modeling the data as coming from an exponential distribution. What is the MLE (Maximum Likelihood Estimate) of the parameter? Show your steps using Markdown.\n",
        "\n",
        "hint1: https://math.stackexchange.com/questions/101481/calculating-maximum-likelihood-estimation-of-the-exponential-distribution-and-pr"
      ],
      "metadata": {
        "id": "JIor8yT-Kew2"
      }
    },
    {
      "cell_type": "markdown",
      "source": [
        "---\n",
        "#Problem 0.4: Coding\n",
        "\n",
        "a. Simulate 100 observations from the following model:\n",
        "- $X \\sim N(1, 1)$\n",
        "- $Y \\sim N(1 + 2X, 2)$\n",
        "- $Z = \\begin{cases} 1 &\\quad Y<0 \\\\ 2 &\\quad Y \\ge 0 \\end{cases}$"
      ],
      "metadata": {
        "id": "fPbG7wA1KBbH"
      }
    },
    {
      "cell_type": "code",
      "source": [
        "#write your code here\n",
        "#hint1: https://www.tutorialspoint.com/generating-random-number-list-in-python"
      ],
      "metadata": {
        "id": "wYrq4TQAH2ZU"
      },
      "execution_count": null,
      "outputs": []
    },
    {
      "cell_type": "markdown",
      "source": [
        "b. Make a scatter plot of the data. Put $X$ on the x-axis and $Y$ on the y-axis. Color the points according to $Z$."
      ],
      "metadata": {
        "id": "hNeVdknFLYu6"
      }
    },
    {
      "cell_type": "code",
      "source": [
        "#write your code here\n",
        "#hint1: https://stackoverflow.com/questions/68576758/how-to-change-scatter-xy-plot-color-dependent-from-string-z-value"
      ],
      "metadata": {
        "id": "-eM9bhfhLhdV"
      },
      "execution_count": null,
      "outputs": []
    }
  ]
}