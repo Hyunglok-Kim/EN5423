{
  "nbformat": 4,
  "nbformat_minor": 0,
  "metadata": {
    "colab": {
      "provenance": [],
      "collapsed_sections": [
        "8NjG5t0TM2iv"
      ]
    },
    "kernelspec": {
      "name": "python3",
      "display_name": "Python 3"
    },
    "language_info": {
      "name": "python"
    }
  },
  "cells": [
    {
      "cell_type": "code",
      "source": [
        "print(\"hello\")"
      ],
      "metadata": {
        "id": "A2auHmy6AP2i"
      },
      "execution_count": null,
      "outputs": []
    },
    {
      "cell_type": "markdown",
      "source": [
        "## 1. mount drive"
      ],
      "metadata": {
        "id": "8NjG5t0TM2iv"
      }
    },
    {
      "cell_type": "code",
      "source": [
        "import os, sys\n",
        "import importlib\n",
        "from google.colab import drive\n",
        "drive.mount('/content/drive')"
      ],
      "metadata": {
        "id": "HSruJ2Bpx4Aj"
      },
      "execution_count": null,
      "outputs": []
    },
    {
      "cell_type": "code",
      "source": [
        "!pwd"
      ],
      "metadata": {
        "id": "oXZT2q41x8Y_"
      },
      "execution_count": null,
      "outputs": []
    },
    {
      "cell_type": "code",
      "source": [
        "!ls"
      ],
      "metadata": {
        "id": "6ZMe_9lOzM7T"
      },
      "execution_count": null,
      "outputs": []
    },
    {
      "cell_type": "markdown",
      "source": [
        "## 2. Change your directory path"
      ],
      "metadata": {
        "id": "-RWWBK0tM_U4"
      }
    },
    {
      "cell_type": "code",
      "source": [
        "print(os.getcwd()) # print current working directory (before change)\n",
        "os.chdir('/content/drive/MyDrive/SIEB2024_class') # change directory\n",
        "print(os.getcwd()) # print current working directory (after change)"
      ],
      "metadata": {
        "id": "OoeUcEgJz388"
      },
      "execution_count": null,
      "outputs": []
    },
    {
      "cell_type": "code",
      "source": [
        "!pwd"
      ],
      "metadata": {
        "id": "jrzPe8lxyLcQ"
      },
      "execution_count": null,
      "outputs": []
    },
    {
      "cell_type": "code",
      "source": [
        "!ls"
      ],
      "metadata": {
        "id": "VZVEtcx2yN_B"
      },
      "execution_count": null,
      "outputs": []
    },
    {
      "cell_type": "code",
      "source": [
        "!ls package/HydroAI # list files in library package folder"
      ],
      "metadata": {
        "id": "U-vwxJqy2QNi"
      },
      "execution_count": null,
      "outputs": []
    },
    {
      "cell_type": "markdown",
      "source": [
        "## 3. Import hydroAI library"
      ],
      "metadata": {
        "id": "tFCl_5IwNF4G"
      }
    },
    {
      "cell_type": "code",
      "source": [
        "import package.HydroAI.check_import as check_import\n",
        "importlib.reload(check_import)\n",
        "\n",
        "print(\"\\n\")\n",
        "check_import.message()"
      ],
      "metadata": {
        "id": "OdaaoQCDTFn1"
      },
      "execution_count": null,
      "outputs": []
    },
    {
      "cell_type": "markdown",
      "source": [
        "## 4. How to install module library to account < ModuleNotFoundError >"
      ],
      "metadata": {
        "id": "CD86LT7nNNtM"
      }
    },
    {
      "cell_type": "code",
      "source": [
        "from package.HydroAI import ASCAT_TUW # you will get < ModuleNotFoundError >"
      ],
      "metadata": {
        "id": "_Nzw5YmSKQ5s"
      },
      "execution_count": null,
      "outputs": []
    },
    {
      "cell_type": "code",
      "source": [
        "pkg_path = '/content/drive/MyDrive/SIEB2024_class/package'\n",
        "!pip install --target=$pkg_path netCDF4\n",
        "!pip install --target=$pkg_path multiprocess\n",
        "!pip install --target=$pkg_path cartopy\n",
        "!pip install --target=$pkg_path rasterio\n",
        "!pip install --target=$pkg_path rioxarray"
      ],
      "metadata": {
        "id": "aGUybdlsUYA_"
      },
      "execution_count": null,
      "outputs": []
    },
    {
      "cell_type": "code",
      "source": [
        "sys.path.append(pkg_path) # Add our package path\n",
        "print(sys.path) # check paths which have \".py\" files\n",
        "\n",
        "from package.HydroAI import ASCAT_TUW\n",
        "from package.HydroAI import LIS_LSM\n",
        "from package.HydroAI import SMAP\n",
        "from package.HydroAI import WBM\n",
        "from package.HydroAI import LULC\n",
        "from package.HydroAI import SMOS_IC\n",
        "from package.HydroAI import TC_like\n",
        "from package.HydroAI import Data\n",
        "from package.HydroAI import Plot\n",
        "`\n",
        "\n",
        "print(\" All hydroAI packages are imported ! \")"
      ],
      "metadata": {
        "id": "OTPzgOO4U1hI"
      },
      "execution_count": null,
      "outputs": []
    }
  ]
}