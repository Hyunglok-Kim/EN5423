{
  "nbformat": 4,
  "nbformat_minor": 0,
  "metadata": {
    "colab": {
      "provenance": [],
      "collapsed_sections": [
        "8NjG5t0TM2iv"
      ]
    },
    "kernelspec": {
      "name": "python3",
      "display_name": "Python 3"
    },
    "language_info": {
      "name": "python"
    }
  },
  "cells": [
    {
      "cell_type": "code",
      "source": [
        "print(\"hello\")"
      ],
      "metadata": {
        "colab": {
          "base_uri": "https://localhost:8080/"
        },
        "id": "A2auHmy6AP2i",
        "outputId": "5c15d96f-c477-42e1-af1c-a50683be733e"
      },
      "execution_count": null,
      "outputs": [
        {
          "output_type": "stream",
          "name": "stdout",
          "text": [
            "hello\n"
          ]
        }
      ]
    },
    {
      "cell_type": "markdown",
      "source": [
        "## 1. mount drive"
      ],
      "metadata": {
        "id": "8NjG5t0TM2iv"
      }
    },
    {
      "cell_type": "code",
      "source": [
        "import os, sys\n",
        "import importlib\n",
        "from google.colab import drive\n",
        "drive.mount('/content/drive')"
      ],
      "metadata": {
        "colab": {
          "base_uri": "https://localhost:8080/"
        },
        "id": "HSruJ2Bpx4Aj",
        "outputId": "7445c4df-7264-4187-b280-c0730f246fbd"
      },
      "execution_count": null,
      "outputs": [
        {
          "output_type": "stream",
          "name": "stdout",
          "text": [
            "Drive already mounted at /content/drive; to attempt to forcibly remount, call drive.mount(\"/content/drive\", force_remount=True).\n"
          ]
        }
      ]
    },
    {
      "cell_type": "code",
      "source": [
        "!pwd"
      ],
      "metadata": {
        "colab": {
          "base_uri": "https://localhost:8080/"
        },
        "id": "oXZT2q41x8Y_",
        "outputId": "6bd89f96-f009-4303-b31b-ea22147536a0"
      },
      "execution_count": null,
      "outputs": [
        {
          "output_type": "stream",
          "name": "stdout",
          "text": [
            "/content/drive/My Drive/SIEB2024_class\n"
          ]
        }
      ]
    },
    {
      "cell_type": "code",
      "source": [
        "!ls"
      ],
      "metadata": {
        "colab": {
          "base_uri": "https://localhost:8080/"
        },
        "id": "6ZMe_9lOzM7T",
        "outputId": "e128e26d-dc40-4335-fa69-17b4af8a04c7"
      },
      "execution_count": null,
      "outputs": [
        {
          "output_type": "stream",
          "name": "stdout",
          "text": [
            "intro.ipynb  package  RefMemo.ipynb  Share_for_students\n"
          ]
        }
      ]
    },
    {
      "cell_type": "markdown",
      "source": [
        "## 2. Change your directory path"
      ],
      "metadata": {
        "id": "-RWWBK0tM_U4"
      }
    },
    {
      "cell_type": "code",
      "source": [
        "print(os.getcwd()) # print current working directory (before change)\n",
        "os.chdir('/content/drive/MyDrive/SIEB2024_class') # change directory\n",
        "print(os.getcwd()) # print current working directory (after change)"
      ],
      "metadata": {
        "colab": {
          "base_uri": "https://localhost:8080/"
        },
        "id": "OoeUcEgJz388",
        "outputId": "e64dfe6c-cf5d-4d2f-dbe3-e55f5adbd998"
      },
      "execution_count": null,
      "outputs": [
        {
          "output_type": "stream",
          "name": "stdout",
          "text": [
            "/content\n",
            "/content/drive/MyDrive/SIEB2024_class\n"
          ]
        }
      ]
    },
    {
      "cell_type": "code",
      "source": [
        "!pwd"
      ],
      "metadata": {
        "colab": {
          "base_uri": "https://localhost:8080/"
        },
        "id": "jrzPe8lxyLcQ",
        "outputId": "69e4dc98-24a6-4402-9488-d887b95bebcb"
      },
      "execution_count": null,
      "outputs": [
        {
          "output_type": "stream",
          "name": "stdout",
          "text": [
            "/content/drive/MyDrive/SIEB2024_class\n"
          ]
        }
      ]
    },
    {
      "cell_type": "code",
      "source": [
        "!ls"
      ],
      "metadata": {
        "colab": {
          "base_uri": "https://localhost:8080/"
        },
        "id": "VZVEtcx2yN_B",
        "outputId": "5335bd6b-e3d6-4ec1-e00a-3fd1b3c8f3d2"
      },
      "execution_count": null,
      "outputs": [
        {
          "output_type": "stream",
          "name": "stdout",
          "text": [
            "intro.ipynb  package\n"
          ]
        }
      ]
    },
    {
      "cell_type": "code",
      "source": [
        "!ls package/HydroAI # list files in library package folder"
      ],
      "metadata": {
        "colab": {
          "base_uri": "https://localhost:8080/"
        },
        "id": "U-vwxJqy2QNi",
        "outputId": "0f4aae14-14a1-4313-a90c-627526ffc0d2"
      },
      "execution_count": null,
      "outputs": [
        {
          "output_type": "stream",
          "name": "stdout",
          "text": [
            "ASCAT_TUW.py\t Data.py\t   LIS_LSM.py  __pycache__  SMAP.py\tWBM.py\n",
            "build\t\t examples\t   LULC.py     README.md    SMOS_IC.py\n",
            "check_import.py  hydroAI.egg-info  Plot.py     setup.py     TC_like.py\n"
          ]
        }
      ]
    },
    {
      "cell_type": "markdown",
      "source": [
        "## 3. Import hydroAI library"
      ],
      "metadata": {
        "id": "tFCl_5IwNF4G"
      }
    },
    {
      "cell_type": "code",
      "source": [
        "import package.HydroAI.check_import as check_import\n",
        "importlib.reload(check_import)\n",
        "\n",
        "print(\"\\n\")\n",
        "check_import.message()"
      ],
      "metadata": {
        "colab": {
          "base_uri": "https://localhost:8080/"
        },
        "id": "OdaaoQCDTFn1",
        "outputId": "1c339624-6d19-4c1c-c68f-c84f95c6d999"
      },
      "execution_count": null,
      "outputs": [
        {
          "output_type": "stream",
          "name": "stdout",
          "text": [
            "HydroAI libraries are import successfully!\n",
            "You can import other python package files (*.py) in hydroAI folder.\n",
            "\n",
            "\n",
            "This is < message > function in check_import.py file\n"
          ]
        }
      ]
    },
    {
      "cell_type": "markdown",
      "source": [
        "## 4. How to install module library to account < ModuleNotFoundError >"
      ],
      "metadata": {
        "id": "CD86LT7nNNtM"
      }
    },
    {
      "cell_type": "code",
      "source": [
        "from package.HydroAI import ASCAT_TUW # you will get < ModuleNotFoundError >"
      ],
      "metadata": {
        "colab": {
          "base_uri": "https://localhost:8080/",
          "height": 429
        },
        "id": "_Nzw5YmSKQ5s",
        "outputId": "c06d83ed-5058-47fd-b274-a5e805f4e517"
      },
      "execution_count": null,
      "outputs": [
        {
          "output_type": "error",
          "ename": "ModuleNotFoundError",
          "evalue": "No module named 'netCDF4'",
          "traceback": [
            "\u001b[0;31m---------------------------------------------------------------------------\u001b[0m",
            "\u001b[0;31mModuleNotFoundError\u001b[0m                       Traceback (most recent call last)",
            "\u001b[0;32m<ipython-input-11-a63ced46e781>\u001b[0m in \u001b[0;36m<cell line: 1>\u001b[0;34m()\u001b[0m\n\u001b[0;32m----> 1\u001b[0;31m \u001b[0;32mfrom\u001b[0m \u001b[0mpackage\u001b[0m\u001b[0;34m.\u001b[0m\u001b[0mhydroAI\u001b[0m \u001b[0;32mimport\u001b[0m \u001b[0mASCAT_TUW\u001b[0m \u001b[0;31m# you will get < ModuleNotFoundError >\u001b[0m\u001b[0;34m\u001b[0m\u001b[0;34m\u001b[0m\u001b[0m\n\u001b[0m",
            "\u001b[0;32m/content/drive/MyDrive/SIEB2024_class/package/hydroAI/ASCAT_TUW.py\u001b[0m in \u001b[0;36m<module>\u001b[0;34m\u001b[0m\n\u001b[1;32m      2\u001b[0m \u001b[0;32mimport\u001b[0m \u001b[0mos\u001b[0m\u001b[0;34m\u001b[0m\u001b[0;34m\u001b[0m\u001b[0m\n\u001b[1;32m      3\u001b[0m \u001b[0;32mimport\u001b[0m \u001b[0mh5py\u001b[0m\u001b[0;34m\u001b[0m\u001b[0;34m\u001b[0m\u001b[0m\n\u001b[0;32m----> 4\u001b[0;31m \u001b[0;32mimport\u001b[0m \u001b[0mnetCDF4\u001b[0m\u001b[0;34m\u001b[0m\u001b[0;34m\u001b[0m\u001b[0m\n\u001b[0m\u001b[1;32m      5\u001b[0m \u001b[0;34m\u001b[0m\u001b[0m\n\u001b[1;32m      6\u001b[0m \u001b[0;32mdef\u001b[0m \u001b[0mload_mat_file\u001b[0m\u001b[0;34m(\u001b[0m\u001b[0mmat_file\u001b[0m\u001b[0;34m,\u001b[0m \u001b[0mpath\u001b[0m\u001b[0;34m)\u001b[0m\u001b[0;34m:\u001b[0m\u001b[0;34m\u001b[0m\u001b[0;34m\u001b[0m\u001b[0m\n",
            "\u001b[0;31mModuleNotFoundError\u001b[0m: No module named 'netCDF4'",
            "",
            "\u001b[0;31m---------------------------------------------------------------------------\u001b[0;32m\nNOTE: If your import is failing due to a missing package, you can\nmanually install dependencies using either !pip or !apt.\n\nTo view examples of installing some common dependencies, click the\n\"Open Examples\" button below.\n\u001b[0;31m---------------------------------------------------------------------------\u001b[0m\n"
          ],
          "errorDetails": {
            "actions": [
              {
                "action": "open_url",
                "actionText": "Open Examples",
                "url": "/notebooks/snippets/importing_libraries.ipynb"
              }
            ]
          }
        }
      ]
    },
    {
      "cell_type": "code",
      "source": [
        "pkg_path = '/content/drive/MyDrive/SIEB2024_class/package'\n",
        "!pip install --target=$pkg_path netCDF4\n",
        "!pip install --target=$pkg_path multiprocess\n",
        "!pip install --target=$pkg_path cartopy\n",
        "!pip install --target=$pkg_path rasterio\n",
        "!pip install --target=$pkg_path rioxarray"
      ],
      "metadata": {
        "colab": {
          "base_uri": "https://localhost:8080/",
          "height": 1000
        },
        "id": "aGUybdlsUYA_",
        "outputId": "9abc433b-f710-4e46-b695-0c1fd90d31a8"
      },
      "execution_count": null,
      "outputs": [
        {
          "output_type": "stream",
          "name": "stdout",
          "text": [
            "Collecting netCDF4\n",
            "  Using cached netCDF4-1.6.5-cp310-cp310-manylinux_2_17_x86_64.manylinux2014_x86_64.whl (5.5 MB)\n",
            "Collecting cftime (from netCDF4)\n",
            "  Using cached cftime-1.6.3-cp310-cp310-manylinux_2_17_x86_64.manylinux2014_x86_64.whl (1.3 MB)\n",
            "Collecting certifi (from netCDF4)\n",
            "  Using cached certifi-2024.2.2-py3-none-any.whl (163 kB)\n",
            "Collecting numpy (from netCDF4)\n",
            "  Using cached numpy-1.26.4-cp310-cp310-manylinux_2_17_x86_64.manylinux2014_x86_64.whl (18.2 MB)\n",
            "Installing collected packages: numpy, certifi, cftime, netCDF4\n",
            "Successfully installed certifi-2024.2.2 cftime-1.6.3 netCDF4-1.6.5 numpy-1.26.4\n",
            "\u001b[33mWARNING: Target directory /content/drive/MyDrive/SIEB2024_class/package/netCDF4.libs already exists. Specify --upgrade to force replacement.\u001b[0m\u001b[33m\n",
            "\u001b[0m\u001b[33mWARNING: Target directory /content/drive/MyDrive/SIEB2024_class/package/numpy-1.26.4.dist-info already exists. Specify --upgrade to force replacement.\u001b[0m\u001b[33m\n",
            "\u001b[0m\u001b[33mWARNING: Target directory /content/drive/MyDrive/SIEB2024_class/package/numpy already exists. Specify --upgrade to force replacement.\u001b[0m\u001b[33m\n",
            "\u001b[0m\u001b[33mWARNING: Target directory /content/drive/MyDrive/SIEB2024_class/package/cftime-1.6.3.dist-info already exists. Specify --upgrade to force replacement.\u001b[0m\u001b[33m\n",
            "\u001b[0m\u001b[33mWARNING: Target directory /content/drive/MyDrive/SIEB2024_class/package/numpy.libs already exists. Specify --upgrade to force replacement.\u001b[0m\u001b[33m\n",
            "\u001b[0m\u001b[33mWARNING: Target directory /content/drive/MyDrive/SIEB2024_class/package/cftime already exists. Specify --upgrade to force replacement.\u001b[0m\u001b[33m\n",
            "\u001b[0m\u001b[33mWARNING: Target directory /content/drive/MyDrive/SIEB2024_class/package/netCDF4 already exists. Specify --upgrade to force replacement.\u001b[0m\u001b[33m\n",
            "\u001b[0m\u001b[33mWARNING: Target directory /content/drive/MyDrive/SIEB2024_class/package/certifi-2024.2.2.dist-info already exists. Specify --upgrade to force replacement.\u001b[0m\u001b[33m\n",
            "\u001b[0m\u001b[33mWARNING: Target directory /content/drive/MyDrive/SIEB2024_class/package/certifi already exists. Specify --upgrade to force replacement.\u001b[0m\u001b[33m\n",
            "\u001b[0m\u001b[33mWARNING: Target directory /content/drive/MyDrive/SIEB2024_class/package/netCDF4-1.6.5.dist-info already exists. Specify --upgrade to force replacement.\u001b[0m\u001b[33m\n",
            "\u001b[0m\u001b[33mWARNING: Target directory /content/drive/MyDrive/SIEB2024_class/package/bin already exists. Specify --upgrade to force replacement.\u001b[0m\u001b[33m\n",
            "\u001b[0m"
          ]
        },
        {
          "output_type": "display_data",
          "data": {
            "application/vnd.colab-display-data+json": {
              "pip_warning": {
                "packages": [
                  "certifi"
                ]
              }
            }
          },
          "metadata": {}
        },
        {
          "output_type": "stream",
          "name": "stdout",
          "text": [
            "Collecting multiprocess\n",
            "  Using cached multiprocess-0.70.16-py310-none-any.whl (134 kB)\n",
            "Collecting dill>=0.3.8 (from multiprocess)\n",
            "  Using cached dill-0.3.8-py3-none-any.whl (116 kB)\n",
            "Installing collected packages: dill, multiprocess\n",
            "Successfully installed dill-0.3.8 multiprocess-0.70.16\n",
            "\u001b[33mWARNING: Target directory /content/drive/MyDrive/SIEB2024_class/package/multiprocess-0.70.16.dist-info already exists. Specify --upgrade to force replacement.\u001b[0m\u001b[33m\n",
            "\u001b[0m\u001b[33mWARNING: Target directory /content/drive/MyDrive/SIEB2024_class/package/_multiprocess already exists. Specify --upgrade to force replacement.\u001b[0m\u001b[33m\n",
            "\u001b[0m\u001b[33mWARNING: Target directory /content/drive/MyDrive/SIEB2024_class/package/dill already exists. Specify --upgrade to force replacement.\u001b[0m\u001b[33m\n",
            "\u001b[0m\u001b[33mWARNING: Target directory /content/drive/MyDrive/SIEB2024_class/package/multiprocess already exists. Specify --upgrade to force replacement.\u001b[0m\u001b[33m\n",
            "\u001b[0m\u001b[33mWARNING: Target directory /content/drive/MyDrive/SIEB2024_class/package/dill-0.3.8.dist-info already exists. Specify --upgrade to force replacement.\u001b[0m\u001b[33m\n",
            "\u001b[0m\u001b[33mWARNING: Target directory /content/drive/MyDrive/SIEB2024_class/package/bin already exists. Specify --upgrade to force replacement.\u001b[0m\u001b[33m\n",
            "\u001b[0mCollecting cartopy\n",
            "  Using cached Cartopy-0.22.0-cp310-cp310-manylinux_2_17_x86_64.manylinux2014_x86_64.whl (11.8 MB)\n",
            "Collecting numpy>=1.21 (from cartopy)\n",
            "  Using cached numpy-1.26.4-cp310-cp310-manylinux_2_17_x86_64.manylinux2014_x86_64.whl (18.2 MB)\n",
            "Collecting matplotlib>=3.4 (from cartopy)\n",
            "  Using cached matplotlib-3.8.3-cp310-cp310-manylinux_2_17_x86_64.manylinux2014_x86_64.whl (11.6 MB)\n",
            "Collecting shapely>=1.7 (from cartopy)\n",
            "  Using cached shapely-2.0.3-cp310-cp310-manylinux_2_17_x86_64.manylinux2014_x86_64.whl (2.5 MB)\n",
            "Collecting packaging>=20 (from cartopy)\n",
            "  Using cached packaging-23.2-py3-none-any.whl (53 kB)\n",
            "Collecting pyshp>=2.1 (from cartopy)\n",
            "  Using cached pyshp-2.3.1-py2.py3-none-any.whl (46 kB)\n",
            "Collecting pyproj>=3.1.0 (from cartopy)\n",
            "  Using cached pyproj-3.6.1-cp310-cp310-manylinux_2_17_x86_64.manylinux2014_x86_64.whl (8.3 MB)\n",
            "Collecting contourpy>=1.0.1 (from matplotlib>=3.4->cartopy)\n",
            "  Using cached contourpy-1.2.0-cp310-cp310-manylinux_2_17_x86_64.manylinux2014_x86_64.whl (310 kB)\n",
            "Collecting cycler>=0.10 (from matplotlib>=3.4->cartopy)\n",
            "  Using cached cycler-0.12.1-py3-none-any.whl (8.3 kB)\n",
            "Collecting fonttools>=4.22.0 (from matplotlib>=3.4->cartopy)\n",
            "  Using cached fonttools-4.49.0-cp310-cp310-manylinux_2_17_x86_64.manylinux2014_x86_64.whl (4.6 MB)\n",
            "Collecting kiwisolver>=1.3.1 (from matplotlib>=3.4->cartopy)\n",
            "  Using cached kiwisolver-1.4.5-cp310-cp310-manylinux_2_12_x86_64.manylinux2010_x86_64.whl (1.6 MB)\n",
            "Collecting pillow>=8 (from matplotlib>=3.4->cartopy)\n",
            "  Using cached pillow-10.2.0-cp310-cp310-manylinux_2_28_x86_64.whl (4.5 MB)\n",
            "Collecting pyparsing>=2.3.1 (from matplotlib>=3.4->cartopy)\n",
            "  Using cached pyparsing-3.1.1-py3-none-any.whl (103 kB)\n",
            "Collecting python-dateutil>=2.7 (from matplotlib>=3.4->cartopy)\n",
            "  Using cached python_dateutil-2.8.2-py2.py3-none-any.whl (247 kB)\n",
            "Collecting certifi (from pyproj>=3.1.0->cartopy)\n",
            "  Using cached certifi-2024.2.2-py3-none-any.whl (163 kB)\n",
            "Collecting six>=1.5 (from python-dateutil>=2.7->matplotlib>=3.4->cartopy)\n",
            "  Using cached six-1.16.0-py2.py3-none-any.whl (11 kB)\n",
            "Installing collected packages: six, pyshp, pyparsing, pillow, packaging, numpy, kiwisolver, fonttools, cycler, certifi, shapely, python-dateutil, pyproj, contourpy, matplotlib, cartopy\n",
            "\u001b[31mERROR: pip's dependency resolver does not currently take into account all the packages that are installed. This behaviour is the source of the following dependency conflicts.\n",
            "imageio 2.31.6 requires pillow<10.1.0,>=8.3.2, but you have pillow 10.2.0 which is incompatible.\u001b[0m\u001b[31m\n",
            "\u001b[0mSuccessfully installed cartopy-0.22.0 certifi-2024.2.2 contourpy-1.2.0 cycler-0.12.1 fonttools-4.49.0 kiwisolver-1.4.5 matplotlib-3.8.3 numpy-1.26.4 packaging-23.2 pillow-10.2.0 pyparsing-3.1.1 pyproj-3.6.1 pyshp-2.3.1 python-dateutil-2.8.2 shapely-2.0.3 six-1.16.0\n",
            "\u001b[33mWARNING: Target directory /content/drive/MyDrive/SIEB2024_class/package/pylab.py already exists. Specify --upgrade to force replacement.\u001b[0m\u001b[33m\n",
            "\u001b[0m\u001b[33mWARNING: Target directory /content/drive/MyDrive/SIEB2024_class/package/cartopy already exists. Specify --upgrade to force replacement.\u001b[0m\u001b[33m\n",
            "\u001b[0m\u001b[33mWARNING: Target directory /content/drive/MyDrive/SIEB2024_class/package/six.py already exists. Specify --upgrade to force replacement.\u001b[0m\u001b[33m\n",
            "\u001b[0m\u001b[33mWARNING: Target directory /content/drive/MyDrive/SIEB2024_class/package/numpy-1.26.4.dist-info already exists. Specify --upgrade to force replacement.\u001b[0m\u001b[33m\n",
            "\u001b[0m\u001b[33mWARNING: Target directory /content/drive/MyDrive/SIEB2024_class/package/numpy already exists. Specify --upgrade to force replacement.\u001b[0m\u001b[33m\n",
            "\u001b[0m\u001b[33mWARNING: Target directory /content/drive/MyDrive/SIEB2024_class/package/pyproj-3.6.1.dist-info already exists. Specify --upgrade to force replacement.\u001b[0m\u001b[33m\n",
            "\u001b[0m\u001b[33mWARNING: Target directory /content/drive/MyDrive/SIEB2024_class/package/kiwisolver-1.4.5.dist-info already exists. Specify --upgrade to force replacement.\u001b[0m\u001b[33m\n",
            "\u001b[0m\u001b[33mWARNING: Target directory /content/drive/MyDrive/SIEB2024_class/package/kiwisolver already exists. Specify --upgrade to force replacement.\u001b[0m\u001b[33m\n",
            "\u001b[0m\u001b[33mWARNING: Target directory /content/drive/MyDrive/SIEB2024_class/package/Cartopy-0.22.0.dist-info already exists. Specify --upgrade to force replacement.\u001b[0m\u001b[33m\n",
            "\u001b[0m\u001b[33mWARNING: Target directory /content/drive/MyDrive/SIEB2024_class/package/shapely.libs already exists. Specify --upgrade to force replacement.\u001b[0m\u001b[33m\n",
            "\u001b[0m\u001b[33mWARNING: Target directory /content/drive/MyDrive/SIEB2024_class/package/numpy.libs already exists. Specify --upgrade to force replacement.\u001b[0m\u001b[33m\n",
            "\u001b[0m\u001b[33mWARNING: Target directory /content/drive/MyDrive/SIEB2024_class/package/matplotlib already exists. Specify --upgrade to force replacement.\u001b[0m\u001b[33m\n",
            "\u001b[0m\u001b[33mWARNING: Target directory /content/drive/MyDrive/SIEB2024_class/package/__pycache__ already exists. Specify --upgrade to force replacement.\u001b[0m\u001b[33m\n",
            "\u001b[0m\u001b[33mWARNING: Target directory /content/drive/MyDrive/SIEB2024_class/package/shapely already exists. Specify --upgrade to force replacement.\u001b[0m\u001b[33m\n",
            "\u001b[0m\u001b[33mWARNING: Target directory /content/drive/MyDrive/SIEB2024_class/package/pillow.libs already exists. Specify --upgrade to force replacement.\u001b[0m\u001b[33m\n",
            "\u001b[0m\u001b[33mWARNING: Target directory /content/drive/MyDrive/SIEB2024_class/package/cycler-0.12.1.dist-info already exists. Specify --upgrade to force replacement.\u001b[0m\u001b[33m\n",
            "\u001b[0m\u001b[33mWARNING: Target directory /content/drive/MyDrive/SIEB2024_class/package/cycler already exists. Specify --upgrade to force replacement.\u001b[0m\u001b[33m\n",
            "\u001b[0m\u001b[33mWARNING: Target directory /content/drive/MyDrive/SIEB2024_class/package/shapely-2.0.3.dist-info already exists. Specify --upgrade to force replacement.\u001b[0m\u001b[33m\n",
            "\u001b[0m\u001b[33mWARNING: Target directory /content/drive/MyDrive/SIEB2024_class/package/pyproj already exists. Specify --upgrade to force replacement.\u001b[0m\u001b[33m\n",
            "\u001b[0m\u001b[33mWARNING: Target directory /content/drive/MyDrive/SIEB2024_class/package/certifi-2024.2.2.dist-info already exists. Specify --upgrade to force replacement.\u001b[0m\u001b[33m\n",
            "\u001b[0m\u001b[33mWARNING: Target directory /content/drive/MyDrive/SIEB2024_class/package/fonttools-4.49.0.dist-info already exists. Specify --upgrade to force replacement.\u001b[0m\u001b[33m\n",
            "\u001b[0m\u001b[33mWARNING: Target directory /content/drive/MyDrive/SIEB2024_class/package/pyparsing already exists. Specify --upgrade to force replacement.\u001b[0m\u001b[33m\n",
            "\u001b[0m\u001b[33mWARNING: Target directory /content/drive/MyDrive/SIEB2024_class/package/pillow-10.2.0.dist-info already exists. Specify --upgrade to force replacement.\u001b[0m\u001b[33m\n",
            "\u001b[0m\u001b[33mWARNING: Target directory /content/drive/MyDrive/SIEB2024_class/package/pyparsing-3.1.1.dist-info already exists. Specify --upgrade to force replacement.\u001b[0m\u001b[33m\n",
            "\u001b[0m\u001b[33mWARNING: Target directory /content/drive/MyDrive/SIEB2024_class/package/fontTools already exists. Specify --upgrade to force replacement.\u001b[0m\u001b[33m\n",
            "\u001b[0m\u001b[33mWARNING: Target directory /content/drive/MyDrive/SIEB2024_class/package/pyproj.libs already exists. Specify --upgrade to force replacement.\u001b[0m\u001b[33m\n",
            "\u001b[0m\u001b[33mWARNING: Target directory /content/drive/MyDrive/SIEB2024_class/package/PIL already exists. Specify --upgrade to force replacement.\u001b[0m\u001b[33m\n",
            "\u001b[0m\u001b[33mWARNING: Target directory /content/drive/MyDrive/SIEB2024_class/package/contourpy already exists. Specify --upgrade to force replacement.\u001b[0m\u001b[33m\n",
            "\u001b[0m\u001b[33mWARNING: Target directory /content/drive/MyDrive/SIEB2024_class/package/matplotlib-3.8.3.dist-info already exists. Specify --upgrade to force replacement.\u001b[0m\u001b[33m\n",
            "\u001b[0m\u001b[33mWARNING: Target directory /content/drive/MyDrive/SIEB2024_class/package/six-1.16.0.dist-info already exists. Specify --upgrade to force replacement.\u001b[0m\u001b[33m\n",
            "\u001b[0m\u001b[33mWARNING: Target directory /content/drive/MyDrive/SIEB2024_class/package/packaging-23.2.dist-info already exists. Specify --upgrade to force replacement.\u001b[0m\u001b[33m\n",
            "\u001b[0m\u001b[33mWARNING: Target directory /content/drive/MyDrive/SIEB2024_class/package/packaging already exists. Specify --upgrade to force replacement.\u001b[0m\u001b[33m\n",
            "\u001b[0m\u001b[33mWARNING: Target directory /content/drive/MyDrive/SIEB2024_class/package/contourpy-1.2.0.dist-info already exists. Specify --upgrade to force replacement.\u001b[0m\u001b[33m\n",
            "\u001b[0m\u001b[33mWARNING: Target directory /content/drive/MyDrive/SIEB2024_class/package/shapefile.py already exists. Specify --upgrade to force replacement.\u001b[0m\u001b[33m\n",
            "\u001b[0m\u001b[33mWARNING: Target directory /content/drive/MyDrive/SIEB2024_class/package/pyshp-2.3.1.dist-info already exists. Specify --upgrade to force replacement.\u001b[0m\u001b[33m\n",
            "\u001b[0m\u001b[33mWARNING: Target directory /content/drive/MyDrive/SIEB2024_class/package/mpl_toolkits already exists. Specify --upgrade to force replacement.\u001b[0m\u001b[33m\n",
            "\u001b[0m\u001b[33mWARNING: Target directory /content/drive/MyDrive/SIEB2024_class/package/python_dateutil-2.8.2.dist-info already exists. Specify --upgrade to force replacement.\u001b[0m\u001b[33m\n",
            "\u001b[0m\u001b[33mWARNING: Target directory /content/drive/MyDrive/SIEB2024_class/package/certifi already exists. Specify --upgrade to force replacement.\u001b[0m\u001b[33m\n",
            "\u001b[0m\u001b[33mWARNING: Target directory /content/drive/MyDrive/SIEB2024_class/package/dateutil already exists. Specify --upgrade to force replacement.\u001b[0m\u001b[33m\n",
            "\u001b[0m\u001b[33mWARNING: Target directory /content/drive/MyDrive/SIEB2024_class/package/share already exists. Specify --upgrade to force replacement.\u001b[0m\u001b[33m\n",
            "\u001b[0m\u001b[33mWARNING: Target directory /content/drive/MyDrive/SIEB2024_class/package/bin already exists. Specify --upgrade to force replacement.\u001b[0m\u001b[33m\n",
            "\u001b[0m"
          ]
        },
        {
          "output_type": "display_data",
          "data": {
            "application/vnd.colab-display-data+json": {
              "pip_warning": {
                "packages": [
                  "certifi",
                  "cycler",
                  "dateutil",
                  "kiwisolver",
                  "pyproj",
                  "shapefile",
                  "shapely",
                  "six"
                ]
              }
            }
          },
          "metadata": {}
        },
        {
          "output_type": "stream",
          "name": "stdout",
          "text": [
            "Collecting rasterio\n",
            "  Using cached rasterio-1.3.9-cp310-cp310-manylinux2014_x86_64.whl (20.6 MB)\n",
            "Collecting affine (from rasterio)\n",
            "  Using cached affine-2.4.0-py3-none-any.whl (15 kB)\n",
            "Collecting attrs (from rasterio)\n",
            "  Using cached attrs-23.2.0-py3-none-any.whl (60 kB)\n",
            "Collecting certifi (from rasterio)\n",
            "  Using cached certifi-2024.2.2-py3-none-any.whl (163 kB)\n",
            "Collecting click>=4.0 (from rasterio)\n",
            "  Using cached click-8.1.7-py3-none-any.whl (97 kB)\n",
            "Collecting cligj>=0.5 (from rasterio)\n",
            "  Using cached cligj-0.7.2-py3-none-any.whl (7.1 kB)\n",
            "Collecting numpy (from rasterio)\n",
            "  Using cached numpy-1.26.4-cp310-cp310-manylinux_2_17_x86_64.manylinux2014_x86_64.whl (18.2 MB)\n",
            "Collecting snuggs>=1.4.1 (from rasterio)\n",
            "  Using cached snuggs-1.4.7-py3-none-any.whl (5.4 kB)\n",
            "Collecting click-plugins (from rasterio)\n",
            "  Using cached click_plugins-1.1.1-py2.py3-none-any.whl (7.5 kB)\n",
            "Collecting setuptools (from rasterio)\n",
            "  Using cached setuptools-69.1.0-py3-none-any.whl (819 kB)\n",
            "Collecting pyparsing>=2.1.6 (from snuggs>=1.4.1->rasterio)\n",
            "  Using cached pyparsing-3.1.1-py3-none-any.whl (103 kB)\n",
            "Installing collected packages: setuptools, pyparsing, numpy, click, certifi, attrs, affine, snuggs, cligj, click-plugins, rasterio\n",
            "\u001b[31mERROR: pip's dependency resolver does not currently take into account all the packages that are installed. This behaviour is the source of the following dependency conflicts.\n",
            "ipython 7.34.0 requires jedi>=0.16, which is not installed.\u001b[0m\u001b[31m\n",
            "\u001b[0mSuccessfully installed affine-2.4.0 attrs-23.2.0 certifi-2024.2.2 click-8.1.7 click-plugins-1.1.1 cligj-0.7.2 numpy-1.26.4 pyparsing-3.1.1 rasterio-1.3.9 setuptools-69.1.0 snuggs-1.4.7\n",
            "\u001b[33mWARNING: Target directory /content/drive/MyDrive/SIEB2024_class/package/snuggs already exists. Specify --upgrade to force replacement.\u001b[0m\u001b[33m\n",
            "\u001b[0m\u001b[33mWARNING: Target directory /content/drive/MyDrive/SIEB2024_class/package/setuptools-69.1.0.dist-info already exists. Specify --upgrade to force replacement.\u001b[0m\u001b[33m\n",
            "\u001b[0m\u001b[33mWARNING: Target directory /content/drive/MyDrive/SIEB2024_class/package/click_plugins already exists. Specify --upgrade to force replacement.\u001b[0m\u001b[33m\n",
            "\u001b[0m\u001b[33mWARNING: Target directory /content/drive/MyDrive/SIEB2024_class/package/cligj already exists. Specify --upgrade to force replacement.\u001b[0m\u001b[33m\n",
            "\u001b[0m\u001b[33mWARNING: Target directory /content/drive/MyDrive/SIEB2024_class/package/setuptools already exists. Specify --upgrade to force replacement.\u001b[0m\u001b[33m\n",
            "\u001b[0m\u001b[33mWARNING: Target directory /content/drive/MyDrive/SIEB2024_class/package/numpy-1.26.4.dist-info already exists. Specify --upgrade to force replacement.\u001b[0m\u001b[33m\n",
            "\u001b[0m\u001b[33mWARNING: Target directory /content/drive/MyDrive/SIEB2024_class/package/numpy already exists. Specify --upgrade to force replacement.\u001b[0m\u001b[33m\n",
            "\u001b[0m\u001b[33mWARNING: Target directory /content/drive/MyDrive/SIEB2024_class/package/distutils-precedence.pth already exists. Specify --upgrade to force replacement.\u001b[0m\u001b[33m\n",
            "\u001b[0m\u001b[33mWARNING: Target directory /content/drive/MyDrive/SIEB2024_class/package/numpy.libs already exists. Specify --upgrade to force replacement.\u001b[0m\u001b[33m\n",
            "\u001b[0m\u001b[33mWARNING: Target directory /content/drive/MyDrive/SIEB2024_class/package/pkg_resources already exists. Specify --upgrade to force replacement.\u001b[0m\u001b[33m\n",
            "\u001b[0m\u001b[33mWARNING: Target directory /content/drive/MyDrive/SIEB2024_class/package/rasterio already exists. Specify --upgrade to force replacement.\u001b[0m\u001b[33m\n",
            "\u001b[0m\u001b[33mWARNING: Target directory /content/drive/MyDrive/SIEB2024_class/package/attrs already exists. Specify --upgrade to force replacement.\u001b[0m\u001b[33m\n",
            "\u001b[0m\u001b[33mWARNING: Target directory /content/drive/MyDrive/SIEB2024_class/package/rasterio.libs already exists. Specify --upgrade to force replacement.\u001b[0m\u001b[33m\n",
            "\u001b[0m\u001b[33mWARNING: Target directory /content/drive/MyDrive/SIEB2024_class/package/click_plugins-1.1.1.dist-info already exists. Specify --upgrade to force replacement.\u001b[0m\u001b[33m\n",
            "\u001b[0m\u001b[33mWARNING: Target directory /content/drive/MyDrive/SIEB2024_class/package/certifi-2024.2.2.dist-info already exists. Specify --upgrade to force replacement.\u001b[0m\u001b[33m\n",
            "\u001b[0m\u001b[33mWARNING: Target directory /content/drive/MyDrive/SIEB2024_class/package/affine-2.4.0.dist-info already exists. Specify --upgrade to force replacement.\u001b[0m\u001b[33m\n",
            "\u001b[0m\u001b[33mWARNING: Target directory /content/drive/MyDrive/SIEB2024_class/package/pyparsing already exists. Specify --upgrade to force replacement.\u001b[0m\u001b[33m\n",
            "\u001b[0m\u001b[33mWARNING: Target directory /content/drive/MyDrive/SIEB2024_class/package/pyparsing-3.1.1.dist-info already exists. Specify --upgrade to force replacement.\u001b[0m\u001b[33m\n",
            "\u001b[0m\u001b[33mWARNING: Target directory /content/drive/MyDrive/SIEB2024_class/package/affine already exists. Specify --upgrade to force replacement.\u001b[0m\u001b[33m\n",
            "\u001b[0m\u001b[33mWARNING: Target directory /content/drive/MyDrive/SIEB2024_class/package/cligj-0.7.2.dist-info already exists. Specify --upgrade to force replacement.\u001b[0m\u001b[33m\n",
            "\u001b[0m\u001b[33mWARNING: Target directory /content/drive/MyDrive/SIEB2024_class/package/rasterio-1.3.9.dist-info already exists. Specify --upgrade to force replacement.\u001b[0m\u001b[33m\n",
            "\u001b[0m\u001b[33mWARNING: Target directory /content/drive/MyDrive/SIEB2024_class/package/snuggs-1.4.7.dist-info already exists. Specify --upgrade to force replacement.\u001b[0m\u001b[33m\n",
            "\u001b[0m\u001b[33mWARNING: Target directory /content/drive/MyDrive/SIEB2024_class/package/attrs-23.2.0.dist-info already exists. Specify --upgrade to force replacement.\u001b[0m\u001b[33m\n",
            "\u001b[0m\u001b[33mWARNING: Target directory /content/drive/MyDrive/SIEB2024_class/package/attr already exists. Specify --upgrade to force replacement.\u001b[0m\u001b[33m\n",
            "\u001b[0m\u001b[33mWARNING: Target directory /content/drive/MyDrive/SIEB2024_class/package/click-8.1.7.dist-info already exists. Specify --upgrade to force replacement.\u001b[0m\u001b[33m\n",
            "\u001b[0m\u001b[33mWARNING: Target directory /content/drive/MyDrive/SIEB2024_class/package/_distutils_hack already exists. Specify --upgrade to force replacement.\u001b[0m\u001b[33m\n",
            "\u001b[0m\u001b[33mWARNING: Target directory /content/drive/MyDrive/SIEB2024_class/package/click already exists. Specify --upgrade to force replacement.\u001b[0m\u001b[33m\n",
            "\u001b[0m\u001b[33mWARNING: Target directory /content/drive/MyDrive/SIEB2024_class/package/certifi already exists. Specify --upgrade to force replacement.\u001b[0m\u001b[33m\n",
            "\u001b[0m\u001b[33mWARNING: Target directory /content/drive/MyDrive/SIEB2024_class/package/bin already exists. Specify --upgrade to force replacement.\u001b[0m\u001b[33m\n",
            "\u001b[0m"
          ]
        },
        {
          "output_type": "display_data",
          "data": {
            "application/vnd.colab-display-data+json": {
              "pip_warning": {
                "packages": [
                  "certifi",
                  "click"
                ]
              }
            }
          },
          "metadata": {}
        },
        {
          "output_type": "stream",
          "name": "stdout",
          "text": [
            "Collecting rioxarray\n",
            "  Using cached rioxarray-0.15.1-py3-none-any.whl (53 kB)\n",
            "Collecting packaging (from rioxarray)\n",
            "  Using cached packaging-23.2-py3-none-any.whl (53 kB)\n",
            "Collecting rasterio>=1.3 (from rioxarray)\n",
            "  Using cached rasterio-1.3.9-cp310-cp310-manylinux2014_x86_64.whl (20.6 MB)\n",
            "Collecting xarray>=2022.3.0 (from rioxarray)\n",
            "  Using cached xarray-2024.2.0-py3-none-any.whl (1.1 MB)\n",
            "Collecting pyproj>=3.3 (from rioxarray)\n",
            "  Using cached pyproj-3.6.1-cp310-cp310-manylinux_2_17_x86_64.manylinux2014_x86_64.whl (8.3 MB)\n",
            "Collecting numpy>=1.23 (from rioxarray)\n",
            "  Using cached numpy-1.26.4-cp310-cp310-manylinux_2_17_x86_64.manylinux2014_x86_64.whl (18.2 MB)\n",
            "Collecting certifi (from pyproj>=3.3->rioxarray)\n",
            "  Using cached certifi-2024.2.2-py3-none-any.whl (163 kB)\n",
            "Collecting affine (from rasterio>=1.3->rioxarray)\n",
            "  Using cached affine-2.4.0-py3-none-any.whl (15 kB)\n",
            "Collecting attrs (from rasterio>=1.3->rioxarray)\n",
            "  Using cached attrs-23.2.0-py3-none-any.whl (60 kB)\n",
            "Collecting click>=4.0 (from rasterio>=1.3->rioxarray)\n",
            "  Using cached click-8.1.7-py3-none-any.whl (97 kB)\n",
            "Collecting cligj>=0.5 (from rasterio>=1.3->rioxarray)\n",
            "  Using cached cligj-0.7.2-py3-none-any.whl (7.1 kB)\n",
            "Collecting snuggs>=1.4.1 (from rasterio>=1.3->rioxarray)\n",
            "  Using cached snuggs-1.4.7-py3-none-any.whl (5.4 kB)\n",
            "Collecting click-plugins (from rasterio>=1.3->rioxarray)\n",
            "  Using cached click_plugins-1.1.1-py2.py3-none-any.whl (7.5 kB)\n",
            "Collecting setuptools (from rasterio>=1.3->rioxarray)\n",
            "  Using cached setuptools-69.1.0-py3-none-any.whl (819 kB)\n",
            "Collecting pandas>=1.5 (from xarray>=2022.3.0->rioxarray)\n",
            "  Using cached pandas-2.2.0-cp310-cp310-manylinux_2_17_x86_64.manylinux2014_x86_64.whl (13.0 MB)\n",
            "Collecting python-dateutil>=2.8.2 (from pandas>=1.5->xarray>=2022.3.0->rioxarray)\n",
            "  Using cached python_dateutil-2.8.2-py2.py3-none-any.whl (247 kB)\n",
            "Collecting pytz>=2020.1 (from pandas>=1.5->xarray>=2022.3.0->rioxarray)\n",
            "  Using cached pytz-2024.1-py2.py3-none-any.whl (505 kB)\n",
            "Collecting tzdata>=2022.7 (from pandas>=1.5->xarray>=2022.3.0->rioxarray)\n",
            "  Using cached tzdata-2024.1-py2.py3-none-any.whl (345 kB)\n",
            "Collecting pyparsing>=2.1.6 (from snuggs>=1.4.1->rasterio>=1.3->rioxarray)\n",
            "  Using cached pyparsing-3.1.1-py3-none-any.whl (103 kB)\n",
            "Collecting six>=1.5 (from python-dateutil>=2.8.2->pandas>=1.5->xarray>=2022.3.0->rioxarray)\n",
            "  Using cached six-1.16.0-py2.py3-none-any.whl (11 kB)\n",
            "Installing collected packages: pytz, tzdata, six, setuptools, pyparsing, packaging, numpy, click, certifi, attrs, affine, snuggs, python-dateutil, pyproj, cligj, click-plugins, rasterio, pandas, xarray, rioxarray\n",
            "\u001b[31mERROR: pip's dependency resolver does not currently take into account all the packages that are installed. This behaviour is the source of the following dependency conflicts.\n",
            "ipython 7.34.0 requires jedi>=0.16, which is not installed.\n",
            "bigframes 0.21.0 requires pandas<2.1.4,>=1.5.0, but you have pandas 2.2.0 which is incompatible.\n",
            "google-colab 1.0.0 requires pandas==1.5.3, but you have pandas 2.2.0 which is incompatible.\u001b[0m\u001b[31m\n",
            "\u001b[0mSuccessfully installed affine-2.4.0 attrs-23.2.0 certifi-2024.2.2 click-8.1.7 click-plugins-1.1.1 cligj-0.7.2 numpy-1.26.4 packaging-23.2 pandas-2.2.0 pyparsing-3.1.1 pyproj-3.6.1 python-dateutil-2.8.2 pytz-2024.1 rasterio-1.3.9 rioxarray-0.15.1 setuptools-69.1.0 six-1.16.0 snuggs-1.4.7 tzdata-2024.1 xarray-2024.2.0\n",
            "\u001b[33mWARNING: Target directory /content/drive/MyDrive/SIEB2024_class/package/snuggs already exists. Specify --upgrade to force replacement.\u001b[0m\u001b[33m\n",
            "\u001b[0m\u001b[33mWARNING: Target directory /content/drive/MyDrive/SIEB2024_class/package/pandas already exists. Specify --upgrade to force replacement.\u001b[0m\u001b[33m\n",
            "\u001b[0m\u001b[33mWARNING: Target directory /content/drive/MyDrive/SIEB2024_class/package/setuptools-69.1.0.dist-info already exists. Specify --upgrade to force replacement.\u001b[0m\u001b[33m\n",
            "\u001b[0m\u001b[33mWARNING: Target directory /content/drive/MyDrive/SIEB2024_class/package/six.py already exists. Specify --upgrade to force replacement.\u001b[0m\u001b[33m\n",
            "\u001b[0m\u001b[33mWARNING: Target directory /content/drive/MyDrive/SIEB2024_class/package/click_plugins already exists. Specify --upgrade to force replacement.\u001b[0m\u001b[33m\n",
            "\u001b[0m\u001b[33mWARNING: Target directory /content/drive/MyDrive/SIEB2024_class/package/cligj already exists. Specify --upgrade to force replacement.\u001b[0m\u001b[33m\n",
            "\u001b[0m\u001b[33mWARNING: Target directory /content/drive/MyDrive/SIEB2024_class/package/setuptools already exists. Specify --upgrade to force replacement.\u001b[0m\u001b[33m\n",
            "\u001b[0m\u001b[33mWARNING: Target directory /content/drive/MyDrive/SIEB2024_class/package/numpy-1.26.4.dist-info already exists. Specify --upgrade to force replacement.\u001b[0m\u001b[33m\n",
            "\u001b[0m\u001b[33mWARNING: Target directory /content/drive/MyDrive/SIEB2024_class/package/numpy already exists. Specify --upgrade to force replacement.\u001b[0m\u001b[33m\n",
            "\u001b[0m\u001b[33mWARNING: Target directory /content/drive/MyDrive/SIEB2024_class/package/pyproj-3.6.1.dist-info already exists. Specify --upgrade to force replacement.\u001b[0m\u001b[33m\n",
            "\u001b[0m\u001b[33mWARNING: Target directory /content/drive/MyDrive/SIEB2024_class/package/distutils-precedence.pth already exists. Specify --upgrade to force replacement.\u001b[0m\u001b[33m\n",
            "\u001b[0m\u001b[33mWARNING: Target directory /content/drive/MyDrive/SIEB2024_class/package/pytz already exists. Specify --upgrade to force replacement.\u001b[0m\u001b[33m\n",
            "\u001b[0m\u001b[33mWARNING: Target directory /content/drive/MyDrive/SIEB2024_class/package/pytz-2024.1.dist-info already exists. Specify --upgrade to force replacement.\u001b[0m\u001b[33m\n",
            "\u001b[0m\u001b[33mWARNING: Target directory /content/drive/MyDrive/SIEB2024_class/package/numpy.libs already exists. Specify --upgrade to force replacement.\u001b[0m\u001b[33m\n",
            "\u001b[0m\u001b[33mWARNING: Target directory /content/drive/MyDrive/SIEB2024_class/package/pkg_resources already exists. Specify --upgrade to force replacement.\u001b[0m\u001b[33m\n",
            "\u001b[0m\u001b[33mWARNING: Target directory /content/drive/MyDrive/SIEB2024_class/package/rasterio already exists. Specify --upgrade to force replacement.\u001b[0m\u001b[33m\n",
            "\u001b[0m\u001b[33mWARNING: Target directory /content/drive/MyDrive/SIEB2024_class/package/__pycache__ already exists. Specify --upgrade to force replacement.\u001b[0m\u001b[33m\n",
            "\u001b[0m\u001b[33mWARNING: Target directory /content/drive/MyDrive/SIEB2024_class/package/attrs already exists. Specify --upgrade to force replacement.\u001b[0m\u001b[33m\n",
            "\u001b[0m\u001b[33mWARNING: Target directory /content/drive/MyDrive/SIEB2024_class/package/rioxarray-0.15.1.dist-info already exists. Specify --upgrade to force replacement.\u001b[0m\u001b[33m\n",
            "\u001b[0m\u001b[33mWARNING: Target directory /content/drive/MyDrive/SIEB2024_class/package/rasterio.libs already exists. Specify --upgrade to force replacement.\u001b[0m\u001b[33m\n",
            "\u001b[0m\u001b[33mWARNING: Target directory /content/drive/MyDrive/SIEB2024_class/package/click_plugins-1.1.1.dist-info already exists. Specify --upgrade to force replacement.\u001b[0m\u001b[33m\n",
            "\u001b[0m\u001b[33mWARNING: Target directory /content/drive/MyDrive/SIEB2024_class/package/pyproj already exists. Specify --upgrade to force replacement.\u001b[0m\u001b[33m\n",
            "\u001b[0m\u001b[33mWARNING: Target directory /content/drive/MyDrive/SIEB2024_class/package/certifi-2024.2.2.dist-info already exists. Specify --upgrade to force replacement.\u001b[0m\u001b[33m\n",
            "\u001b[0m\u001b[33mWARNING: Target directory /content/drive/MyDrive/SIEB2024_class/package/affine-2.4.0.dist-info already exists. Specify --upgrade to force replacement.\u001b[0m\u001b[33m\n",
            "\u001b[0m\u001b[33mWARNING: Target directory /content/drive/MyDrive/SIEB2024_class/package/pyparsing already exists. Specify --upgrade to force replacement.\u001b[0m\u001b[33m\n",
            "\u001b[0m\u001b[33mWARNING: Target directory /content/drive/MyDrive/SIEB2024_class/package/pyparsing-3.1.1.dist-info already exists. Specify --upgrade to force replacement.\u001b[0m\u001b[33m\n",
            "\u001b[0m\u001b[33mWARNING: Target directory /content/drive/MyDrive/SIEB2024_class/package/affine already exists. Specify --upgrade to force replacement.\u001b[0m\u001b[33m\n",
            "\u001b[0m\u001b[33mWARNING: Target directory /content/drive/MyDrive/SIEB2024_class/package/pyproj.libs already exists. Specify --upgrade to force replacement.\u001b[0m\u001b[33m\n",
            "\u001b[0m\u001b[33mWARNING: Target directory /content/drive/MyDrive/SIEB2024_class/package/tzdata-2024.1.dist-info already exists. Specify --upgrade to force replacement.\u001b[0m\u001b[33m\n",
            "\u001b[0m\u001b[33mWARNING: Target directory /content/drive/MyDrive/SIEB2024_class/package/cligj-0.7.2.dist-info already exists. Specify --upgrade to force replacement.\u001b[0m\u001b[33m\n",
            "\u001b[0m\u001b[33mWARNING: Target directory /content/drive/MyDrive/SIEB2024_class/package/rioxarray already exists. Specify --upgrade to force replacement.\u001b[0m\u001b[33m\n",
            "\u001b[0m\u001b[33mWARNING: Target directory /content/drive/MyDrive/SIEB2024_class/package/pandas-2.2.0.dist-info already exists. Specify --upgrade to force replacement.\u001b[0m\u001b[33m\n",
            "\u001b[0m\u001b[33mWARNING: Target directory /content/drive/MyDrive/SIEB2024_class/package/rasterio-1.3.9.dist-info already exists. Specify --upgrade to force replacement.\u001b[0m\u001b[33m\n",
            "\u001b[0m\u001b[33mWARNING: Target directory /content/drive/MyDrive/SIEB2024_class/package/six-1.16.0.dist-info already exists. Specify --upgrade to force replacement.\u001b[0m\u001b[33m\n",
            "\u001b[0m\u001b[33mWARNING: Target directory /content/drive/MyDrive/SIEB2024_class/package/tzdata already exists. Specify --upgrade to force replacement.\u001b[0m\u001b[33m\n",
            "\u001b[0m\u001b[33mWARNING: Target directory /content/drive/MyDrive/SIEB2024_class/package/packaging-23.2.dist-info already exists. Specify --upgrade to force replacement.\u001b[0m\u001b[33m\n",
            "\u001b[0m\u001b[33mWARNING: Target directory /content/drive/MyDrive/SIEB2024_class/package/packaging already exists. Specify --upgrade to force replacement.\u001b[0m\u001b[33m\n",
            "\u001b[0m\u001b[33mWARNING: Target directory /content/drive/MyDrive/SIEB2024_class/package/snuggs-1.4.7.dist-info already exists. Specify --upgrade to force replacement.\u001b[0m\u001b[33m\n",
            "\u001b[0m\u001b[33mWARNING: Target directory /content/drive/MyDrive/SIEB2024_class/package/attrs-23.2.0.dist-info already exists. Specify --upgrade to force replacement.\u001b[0m\u001b[33m\n",
            "\u001b[0m\u001b[33mWARNING: Target directory /content/drive/MyDrive/SIEB2024_class/package/attr already exists. Specify --upgrade to force replacement.\u001b[0m\u001b[33m\n",
            "\u001b[0m\u001b[33mWARNING: Target directory /content/drive/MyDrive/SIEB2024_class/package/click-8.1.7.dist-info already exists. Specify --upgrade to force replacement.\u001b[0m\u001b[33m\n",
            "\u001b[0m\u001b[33mWARNING: Target directory /content/drive/MyDrive/SIEB2024_class/package/_distutils_hack already exists. Specify --upgrade to force replacement.\u001b[0m\u001b[33m\n",
            "\u001b[0m\u001b[33mWARNING: Target directory /content/drive/MyDrive/SIEB2024_class/package/xarray-2024.2.0.dist-info already exists. Specify --upgrade to force replacement.\u001b[0m\u001b[33m\n",
            "\u001b[0m\u001b[33mWARNING: Target directory /content/drive/MyDrive/SIEB2024_class/package/click already exists. Specify --upgrade to force replacement.\u001b[0m\u001b[33m\n",
            "\u001b[0m\u001b[33mWARNING: Target directory /content/drive/MyDrive/SIEB2024_class/package/python_dateutil-2.8.2.dist-info already exists. Specify --upgrade to force replacement.\u001b[0m\u001b[33m\n",
            "\u001b[0m\u001b[33mWARNING: Target directory /content/drive/MyDrive/SIEB2024_class/package/xarray already exists. Specify --upgrade to force replacement.\u001b[0m\u001b[33m\n",
            "\u001b[0m\u001b[33mWARNING: Target directory /content/drive/MyDrive/SIEB2024_class/package/certifi already exists. Specify --upgrade to force replacement.\u001b[0m\u001b[33m\n",
            "\u001b[0m\u001b[33mWARNING: Target directory /content/drive/MyDrive/SIEB2024_class/package/dateutil already exists. Specify --upgrade to force replacement.\u001b[0m\u001b[33m\n",
            "\u001b[0m\u001b[33mWARNING: Target directory /content/drive/MyDrive/SIEB2024_class/package/bin already exists. Specify --upgrade to force replacement.\u001b[0m\u001b[33m\n",
            "\u001b[0m"
          ]
        },
        {
          "output_type": "display_data",
          "data": {
            "application/vnd.colab-display-data+json": {
              "pip_warning": {
                "packages": [
                  "certifi",
                  "click",
                  "dateutil",
                  "pyproj",
                  "six"
                ]
              }
            }
          },
          "metadata": {}
        }
      ]
    },
    {
      "cell_type": "code",
      "source": [
        "sys.path.append(pkg_path) # Add our package path\n",
        "print(sys.path) # check paths which have \".py\" files\n",
        "\n",
        "from package.HydroAI import ASCAT_TUW\n",
        "from package.HydroAI import LIS_LSM\n",
        "from package.HydroAI import SMAP\n",
        "from package.HydroAI import WBM\n",
        "from package.HydroAI import LULC\n",
        "from package.HydroAI import SMOS_IC\n",
        "from package.HydroAI import TC_like\n",
        "from package.HydroAI import Data\n",
        "from package.HydroAI import Plot\n",
        "`\n",
        "\n",
        "print(\" All hydroAI packages are imported ! \")"
      ],
      "metadata": {
        "colab": {
          "base_uri": "https://localhost:8080/"
        },
        "id": "OTPzgOO4U1hI",
        "outputId": "f1efd4f7-f8f4-47c0-cd3b-df67bd4cdc7e"
      },
      "execution_count": null,
      "outputs": [
        {
          "output_type": "stream",
          "name": "stdout",
          "text": [
            "['/content', '/env/python', '/usr/lib/python310.zip', '/usr/lib/python3.10', '/usr/lib/python3.10/lib-dynload', '', '/usr/local/lib/python3.10/dist-packages', '/usr/lib/python3/dist-packages', '/usr/local/lib/python3.10/dist-packages/IPython/extensions', '/root/.ipython', '/content/drive/MyDrive/SIEB2024_class/package', '/content/drive/MyDrive/SIEB2024_class/package']\n",
            " All hydroAI packages are imported ! \n"
          ]
        }
      ]
    }
  ]
}