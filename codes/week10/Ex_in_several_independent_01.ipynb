{
 "cells": [
  {
   "cell_type": "markdown",
   "id": "768fdf24-c423-4789-a412-f0596b3167d5",
   "metadata": {},
   "source": [
    "This code is for EN5423 class at GIST, Republic of Korea, and created by Dr. Hyunglok Kim.  \n",
    "**Contact information**: hyunglokkim@gist.ac.kr  \n",
    "**License**: This work is licensed for non-commercial use only.  \n",
    "**Restrictions**: Do not use this material without permission for teaching or developing other classes."
   ]
  },
  {
   "cell_type": "code",
   "execution_count": 11,
   "id": "7c80fd3e-8b10-4307-b3d2-8136ea999cab",
   "metadata": {},
   "outputs": [],
   "source": [
    "import pyreadr\n",
    "import pandas as pd\n",
    "import scipy.stats as stats\n",
    "\n",
    "# Path to the RDA file\n",
    "file_path = './specapic.rda'\n",
    "\n",
    "# Reading the RDA file\n",
    "result = pyreadr.read_r(file_path)\n",
    "\n",
    "data = result['specapic']"
   ]
  },
  {
   "cell_type": "code",
   "execution_count": 10,
   "id": "fc0a8df7-755a-478d-80ab-a9f0174b829d",
   "metadata": {},
   "outputs": [
    {
     "name": "stdout",
     "output_type": "stream",
     "text": [
      "Kruskal-Wallis chi-squared = 11.544, p-value = 0.00912\n",
      "Degrees of freedom = 3\n"
     ]
    },
    {
     "name": "stderr",
     "output_type": "stream",
     "text": [
      "/var/folders/_4/qjq3yrjn047588zvn9_fc2gc0000gn/T/ipykernel_7818/2544662272.py:1: FutureWarning: The default of observed=False is deprecated and will be changed to True in a future version of pandas. Pass observed=False to retain current behavior or observed=True to adopt the future default and silence this warning.\n",
      "  groups = data.groupby('rock')['spcap'].apply(list)\n"
     ]
    }
   ],
   "source": [
    "groups = data.groupby('rock')['spcap'].apply(list)\n",
    "statistic, p_value = stats.kruskal(*groups)\n",
    "\n",
    "# Print the results\n",
    "print(f\"Kruskal-Wallis chi-squared = {statistic:.3f}, p-value = {p_value:.5f}\")\n",
    "\n",
    "# To display degrees of freedom, it's the number of groups minus one\n",
    "df = len(groups) - 1\n",
    "print(f\"Degrees of freedom = {df}\")"
   ]
  }
 ],
 "metadata": {
  "kernelspec": {
   "display_name": "Python 3 (ipykernel)",
   "language": "python",
   "name": "python3"
  },
  "language_info": {
   "codemirror_mode": {
    "name": "ipython",
    "version": 3
   },
   "file_extension": ".py",
   "mimetype": "text/x-python",
   "name": "python",
   "nbconvert_exporter": "python",
   "pygments_lexer": "ipython3",
   "version": "3.12.3"
  }
 },
 "nbformat": 4,
 "nbformat_minor": 5
}
