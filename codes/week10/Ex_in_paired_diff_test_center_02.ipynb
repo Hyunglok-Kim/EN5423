{
 "cells": [
  {
   "cell_type": "markdown",
   "id": "768fdf24-c423-4789-a412-f0596b3167d5",
   "metadata": {},
   "source": [
    "This code is for EN5423 class at GIST, Republic of Korea, and created by Dr. Hyunglok Kim.  \n",
    "**Contact information**: hyunglokkim@gist.ac.kr  \n",
    "**License**: This work is licensed for non-commercial use only.  \n",
    "**Restrictions**: Do not use this material without permission for teaching or developing other classes."
   ]
  },
  {
   "cell_type": "code",
   "execution_count": 52,
   "id": "7c80fd3e-8b10-4307-b3d2-8136ea999cab",
   "metadata": {},
   "outputs": [],
   "source": [
    "import numpy as np\n",
    "import pandas as pd\n",
    "from scipy.stats import shapiro\n",
    "from scipy.stats import ttest_rel\n",
    "from scipy.stats import wilcoxon\n",
    "\n",
    "import matplotlib.pyplot as plt"
   ]
  },
  {
   "cell_type": "code",
   "execution_count": 49,
   "id": "e61b35e9-ea50-46ca-8db1-bae5f9752249",
   "metadata": {},
   "outputs": [
    {
     "data": {
      "text/html": [
       "<div>\n",
       "<style scoped>\n",
       "    .dataframe tbody tr th:only-of-type {\n",
       "        vertical-align: middle;\n",
       "    }\n",
       "\n",
       "    .dataframe tbody tr th {\n",
       "        vertical-align: top;\n",
       "    }\n",
       "\n",
       "    .dataframe thead th {\n",
       "        text-align: right;\n",
       "    }\n",
       "</style>\n",
       "<table border=\"1\" class=\"dataframe\">\n",
       "  <thead>\n",
       "    <tr style=\"text-align: right;\">\n",
       "      <th></th>\n",
       "      <th>Above</th>\n",
       "      <th>Below</th>\n",
       "      <th>D_i</th>\n",
       "    </tr>\n",
       "  </thead>\n",
       "  <tbody>\n",
       "    <tr>\n",
       "      <th>0</th>\n",
       "      <td>12</td>\n",
       "      <td>9</td>\n",
       "      <td>3</td>\n",
       "    </tr>\n",
       "    <tr>\n",
       "      <th>1</th>\n",
       "      <td>15</td>\n",
       "      <td>8</td>\n",
       "      <td>7</td>\n",
       "    </tr>\n",
       "    <tr>\n",
       "      <th>2</th>\n",
       "      <td>11</td>\n",
       "      <td>38</td>\n",
       "      <td>-27</td>\n",
       "    </tr>\n",
       "    <tr>\n",
       "      <th>3</th>\n",
       "      <td>41</td>\n",
       "      <td>24</td>\n",
       "      <td>17</td>\n",
       "    </tr>\n",
       "    <tr>\n",
       "      <th>4</th>\n",
       "      <td>106</td>\n",
       "      <td>48</td>\n",
       "      <td>58</td>\n",
       "    </tr>\n",
       "    <tr>\n",
       "      <th>5</th>\n",
       "      <td>63</td>\n",
       "      <td>17</td>\n",
       "      <td>46</td>\n",
       "    </tr>\n",
       "    <tr>\n",
       "      <th>6</th>\n",
       "      <td>296</td>\n",
       "      <td>11</td>\n",
       "      <td>285</td>\n",
       "    </tr>\n",
       "    <tr>\n",
       "      <th>7</th>\n",
       "      <td>53</td>\n",
       "      <td>41</td>\n",
       "      <td>12</td>\n",
       "    </tr>\n",
       "    <tr>\n",
       "      <th>8</th>\n",
       "      <td>20</td>\n",
       "      <td>14</td>\n",
       "      <td>6</td>\n",
       "    </tr>\n",
       "    <tr>\n",
       "      <th>9</th>\n",
       "      <td>110</td>\n",
       "      <td>60</td>\n",
       "      <td>50</td>\n",
       "    </tr>\n",
       "    <tr>\n",
       "      <th>10</th>\n",
       "      <td>429</td>\n",
       "      <td>53</td>\n",
       "      <td>376</td>\n",
       "    </tr>\n",
       "    <tr>\n",
       "      <th>11</th>\n",
       "      <td>185</td>\n",
       "      <td>124</td>\n",
       "      <td>61</td>\n",
       "    </tr>\n",
       "  </tbody>\n",
       "</table>\n",
       "</div>"
      ],
      "text/plain": [
       "    Above  Below  D_i\n",
       "0      12      9    3\n",
       "1      15      8    7\n",
       "2      11     38  -27\n",
       "3      41     24   17\n",
       "4     106     48   58\n",
       "5      63     17   46\n",
       "6     296     11  285\n",
       "7      53     41   12\n",
       "8      20     14    6\n",
       "9     110     60   50\n",
       "10    429     53  376\n",
       "11    185    124   61"
      ]
     },
     "execution_count": 49,
     "metadata": {},
     "output_type": "execute_result"
    }
   ],
   "source": [
    "# Example 1\n",
    "Above = np.array([12, 15, 11, 41, 106, 63, 296, 53, 20, 110, 429, 185])\n",
    "Below = np.array([9, 8, 38, 24, 48, 17, 11, 41, 14, 60, 53, 124])\n",
    "D_i = Above - Below\n",
    "nymph_list = pd.DataFrame({'Above': Above, 'Below': Below, 'D_i': Diff})\n",
    "nymph_list"
   ]
  },
  {
   "cell_type": "code",
   "execution_count": 8,
   "id": "aeba2ae1-c3b9-477a-b50f-5a3b4198b519",
   "metadata": {},
   "outputs": [
    {
     "name": "stdout",
     "output_type": "stream",
     "text": [
      "Test statistic: 0.6833876371383667\n",
      "P-value: 0.0005857152864336967\n"
     ]
    }
   ],
   "source": [
    "statistic, p_value = shapiro(D_i)\n",
    "print(\"Test statistic:\", statistic)\n",
    "print(\"P-value:\", p_value)"
   ]
  },
  {
   "cell_type": "code",
   "execution_count": 12,
   "id": "cc91859a-0f1c-4cec-b6e4-8f086c8f73c5",
   "metadata": {},
   "outputs": [
    {
     "name": "stdout",
     "output_type": "stream",
     "text": [
      "Paired t-test\n",
      "t = 2.0823691158441737\n",
      "p-value = 0.030723019706026842\n"
     ]
    }
   ],
   "source": [
    "#the ttest_rel function from the scipy.stats module in Python to perform a paired t-test with specified alternative hypothesis.\n",
    "# alternative=\"greater\" means we're testing if the mean of Above is greater than the mean of Below\n",
    "t_statistic, p_value = ttest_rel(Above, Below, alternative=\"greater\")\n",
    "print(\"Paired t-test\")\n",
    "print(\"t =\", t_statistic)\n",
    "print(\"p-value =\", p_value)"
   ]
  },
  {
   "cell_type": "code",
   "execution_count": 15,
   "id": "b66edf6f-2de9-4837-918b-9000d8f0d70b",
   "metadata": {},
   "outputs": [
    {
     "data": {
      "text/plain": [
       "(array([5., 3., 2., 0., 0., 0., 0., 1., 0., 1.]),\n",
       " array([-27. ,  13.3,  53.6,  93.9, 134.2, 174.5, 214.8, 255.1, 295.4,\n",
       "        335.7, 376. ]),\n",
       " <BarContainer object of 10 artists>)"
      ]
     },
     "execution_count": 15,
     "metadata": {},
     "output_type": "execute_result"
    },
    {
     "data": {
      "image/png": "[encoded data removed]",
      "text/plain": [
       "<Figure size 640x480 with 1 Axes>"
      ]
     },
     "metadata": {},
     "output_type": "display_data"
    }
   ],
   "source": [
    "plt.hist(D_i)"
   ]
  },
  {
   "cell_type": "code",
   "execution_count": 22,
   "id": "01ce6e4a-c20a-4a5f-b8b3-47f79440b6c5",
   "metadata": {},
   "outputs": [
    {
     "name": "stdout",
     "output_type": "stream",
     "text": [
      "Test statistic: 0.8782374858856201\n",
      "P-value: 0.08320952206850052\n"
     ]
    }
   ],
   "source": [
    "Log_D_i = np.log(Above) - np.log(Below)\n",
    "statistic, p_value = shapiro(Log_D_i)\n",
    "print(\"Test statistic:\", statistic)\n",
    "print(\"P-value:\", p_value)"
   ]
  },
  {
   "cell_type": "code",
   "execution_count": 23,
   "id": "a1dd298c-3025-466c-a401-cda097a6f2e8",
   "metadata": {},
   "outputs": [
    {
     "data": {
      "text/plain": [
       "(array([1., 0., 0., 5., 3., 1., 0., 1., 0., 1.]),\n",
       " array([-1.23969089, -0.78647538, -0.33325987,  0.11995563,  0.57317114,\n",
       "         1.02638665,  1.47960215,  1.93281766,  2.38603317,  2.83924867,\n",
       "         3.29246418]),\n",
       " <BarContainer object of 10 artists>)"
      ]
     },
     "execution_count": 23,
     "metadata": {},
     "output_type": "execute_result"
    },
    {
     "data": {
      "image/png": "[encoded data removed]",
      "text/plain": [
       "<Figure size 640x480 with 1 Axes>"
      ]
     },
     "metadata": {},
     "output_type": "display_data"
    }
   ],
   "source": [
    "plt.hist(Log_D_i)"
   ]
  },
  {
   "cell_type": "code",
   "execution_count": 24,
   "id": "837199ce-cf1a-4fe8-b157-0df0eca1c51c",
   "metadata": {},
   "outputs": [
    {
     "name": "stdout",
     "output_type": "stream",
     "text": [
      "Paired t-test\n",
      "t = 2.4420714059059323\n",
      "p-value = 0.016351195560573684\n"
     ]
    }
   ],
   "source": [
    "t_statistic, p_value = ttest_rel(np.log(Above), np.log(Below), alternative=\"greater\")\n",
    "print(\"Paired t-test\")\n",
    "print(\"t =\", t_statistic)\n",
    "print(\"p-value =\", p_value)"
   ]
  },
  {
   "cell_type": "code",
   "execution_count": 40,
   "id": "ed1acc60-bec7-4a7c-8bcc-93013a744e54",
   "metadata": {},
   "outputs": [
    {
     "name": "stdout",
     "output_type": "stream",
     "text": [
      "Permutation p-value: 0.0114\n",
      "Mean Difference p-value: 0.7764592989644773\n"
     ]
    }
   ],
   "source": [
    "# Example 2. Mayfly nymphs—Permutation test of paired differences.\n",
    "def permutation_test_mean_difference(observed_diff, n_permutations=10000, alternative='greater'):\n",
    "    \"\"\"\n",
    "    Perform a permutation test of mean differences of matched pairs.\n",
    "\n",
    "    Parameters:\n",
    "    observed_diff (array-like): Array of observed differences.\n",
    "    n_permutations (int): Number of permutations to perform.\n",
    "    alternative (str): Specifies the alternative hypothesis.\n",
    "                      - 'two-sided': difference is not equal to 0 (default).\n",
    "                      - 'greater': difference is greater than 0.\n",
    "                      - 'less': difference is less than 0.\n",
    "\n",
    "    Returns:\n",
    "    p_value (float): Permutation p-value.\n",
    "    \"\"\"\n",
    "\n",
    "    observed_mean_diff = np.mean(observed_diff)\n",
    "\n",
    "    # Initialize array to store test statistics from permutations\n",
    "    permuted_diffs = np.zeros(n_permutations)\n",
    "\n",
    "    # Perform permutations\n",
    "    for i in range(n_permutations):\n",
    "        # Randomly permute signs of differences\n",
    "        permuted_signs = np.random.choice([-1, 1], size=len(observed_diff))\n",
    "        permuted_diff = observed_diff * permuted_signs\n",
    "        permuted_diffs[i] = np.mean(permuted_diff)\n",
    "\n",
    "    # Calculate p-value based on the alternative hypothesis\n",
    "    if alternative == 'two-sided':\n",
    "        extreme_count = np.sum(np.abs(permuted_diffs) >= np.abs(observed_mean_diff))\n",
    "    elif alternative == 'greater':\n",
    "        extreme_count = np.sum(permuted_diffs >= observed_mean_diff)\n",
    "    elif alternative == 'less':\n",
    "        extreme_count = np.sum(permuted_diffs <= observed_mean_diff)\n",
    "    else:\n",
    "        raise ValueError(\"Invalid alternative hypothesis\")\n",
    "\n",
    "    p_value = extreme_count / n_permutations\n",
    "\n",
    "    return p_value, observed_mean_diff, permuted_diffs\n",
    "\n",
    "# Example usage:\n",
    "p_value, observed_mean_diff, permuted_diffs  = permutation_test_mean_difference(Log_D_i)\n",
    "print(\"Permutation p-value:\", p_value)\n",
    "print(\"Mean Difference p-value:\", observed_mean_diff)"
   ]
  },
  {
   "cell_type": "code",
   "execution_count": 38,
   "id": "8407777b-2eb0-46ef-bc4f-decd177f6bef",
   "metadata": {},
   "outputs": [
    {
     "data": {
      "image/png": "[encoded data removed]",
      "text/plain": [
       "<Figure size 640x480 with 1 Axes>"
      ]
     },
     "metadata": {},
     "output_type": "display_data"
    }
   ],
   "source": [
    "plt.hist(permuted_diffs, bins=30, density=True, alpha=0.7, color='blue', edgecolor='black')\n",
    "plt.xlabel('Mean Difference log(Above) - log(Below)')\n",
    "plt.ylabel('Frequency')\n",
    "plt.title('Histogram of Permuted Differences')\n",
    "plt.grid(True)\n",
    "\n",
    "plt.axvline(x=observed_mean_diff, color='red', linestyle='--', label=f'observed-value = {observed_mean_diff}')\n",
    "plt.legend()\n",
    "\n",
    "plt.show()"
   ]
  },
  {
   "cell_type": "code",
   "execution_count": 47,
   "id": "4a84c56c-fd37-4ee2-9f09-d475ccfcd0a0",
   "metadata": {},
   "outputs": [
    {
     "name": "stdout",
     "output_type": "stream",
     "text": [
      "Permutation p-value: 0.0466\n",
      "Observed Mean Difference: 0.7764592989644772\n"
     ]
    }
   ],
   "source": [
    "def permutation_test_mean_difference_ind(group1, group2, n_permutations=10000, alternative='greater'):\n",
    "    \"\"\"\n",
    "    Perform a permutation test for the mean difference between two independent groups.\n",
    "\n",
    "    Parameters:\n",
    "    group1 (array-like): Array of observations from the first group.\n",
    "    group2 (array-like): Array of observations from the second group.\n",
    "    n_permutations (int): Number of permutations to perform.\n",
    "    alternative (str): Specifies the alternative hypothesis.\n",
    "                      - 'two-sided': difference is not equal to 0 (default).\n",
    "                      - 'greater': difference is greater than 0.\n",
    "                      - 'less': difference is less than 0.\n",
    "\n",
    "    Returns:\n",
    "    p_value (float): Permutation p-value.\n",
    "    observed_mean_diff (float): The observed difference in means between the two groups.\n",
    "    permuted_diffs (array): Array of mean differences from permutations.\n",
    "    \"\"\"\n",
    "    observed_mean_diff = np.mean(group1) - np.mean(group2)\n",
    "    combined_groups = np.concatenate([group1, group2])\n",
    "    permuted_diffs = np.zeros(n_permutations)\n",
    "\n",
    "    for i in range(n_permutations):\n",
    "        np.random.shuffle(combined_groups)\n",
    "        new_group1 = combined_groups[:len(group1)]\n",
    "        new_group2 = combined_groups[len(group1):]\n",
    "        permuted_diff = np.mean(new_group1) - np.mean(new_group2)\n",
    "        permuted_diffs[i] = permuted_diff\n",
    "\n",
    "    if alternative == 'two-sided':\n",
    "        extreme_count = np.sum(np.abs(permuted_diffs) >= np.abs(observed_mean_diff))\n",
    "    elif alternative == 'greater':\n",
    "        extreme_count = np.sum(permuted_diffs >= observed_mean_diff)\n",
    "    elif alternative == 'less':\n",
    "        extreme_count = np.sum(permuted_diffs <= observed_mean_diff)\n",
    "    else:\n",
    "        raise ValueError(\"Invalid alternative hypothesis\")\n",
    "\n",
    "    p_value = extreme_count / n_permutations\n",
    "    return p_value, observed_mean_diff, permuted_diffs\n",
    "\n",
    "p_value, observed_mean_diff, permuted_diffs = permutation_test_mean_difference_ind(np.log(Above), np.log(Below))\n",
    "print(\"Permutation p-value:\", p_value)\n",
    "print(\"Observed Mean Difference:\", observed_mean_diff)"
   ]
  },
  {
   "cell_type": "code",
   "execution_count": 51,
   "id": "6af98b73-8096-4b8b-b4c0-dd76e59afe0a",
   "metadata": {},
   "outputs": [
    {
     "name": "stdout",
     "output_type": "stream",
     "text": [
      "Wilcoxon signed rank test\n",
      "V statistic: 69.0, p-value: 0.008056640625\n",
      "Sample estimates:\n",
      "(pseudo)median: 0.5708270199633392\n",
      "exp(-pseudo_median): 0.5650579312176132\n"
     ]
    }
   ],
   "source": [
    "# Compute the logarithms of the 'Above' and 'Below' data\n",
    "log_Above = np.log(Above)\n",
    "log_Below = np.log(Below)\n",
    "\n",
    "# Performing the Wilcoxon signed-rank test\n",
    "result = wilcoxon(log_Above, log_Below, alternative='greater')\n",
    "\n",
    "# Output the test results\n",
    "print(\"Wilcoxon signed rank test\")\n",
    "print(f\"V statistic: {result.statistic}, p-value: {result.pvalue}\")\n",
    "\n",
    "# Computing the confidence interval\n",
    "n = len(log_Above)\n",
    "differences = log_Above - log_Below\n",
    "sorted_diff = np.sort(differences)\n",
    "\n",
    "# Median estimate (pseudo median)\n",
    "pseudo_median = np.median(differences)\n",
    "\n",
    "# Output confidence interval and pseudo median\n",
    "print(\"Sample estimates:\")\n",
    "print(f\"(pseudo)median: {pseudo_median}\")\n",
    "\n",
    "# Computing exp(-pseudo_median)\n",
    "exp_neg_median = np.exp(-pseudo_median)\n",
    "print(f\"exp(-pseudo_median): {exp_neg_median}\")\n"
   ]
  },
  {
   "cell_type": "code",
   "execution_count": 53,
   "id": "f8c51409-79b4-43b4-87d6-86742e0bbe64",
   "metadata": {},
   "outputs": [
    {
     "name": "stdout",
     "output_type": "stream",
     "text": [
      "Paired t-test\n",
      "t = 2.4421, df = 11, p-value = 0.0327\n",
      "alternative hypothesis: true difference in means is not equal to 0\n",
      "95 percent confidence interval:\n"
     ]
    },
    {
     "ename": "TypeError",
     "evalue": "unsupported format string passed to numpy.ndarray.__format__",
     "output_type": "error",
     "traceback": [
      "\u001b[0;31m---------------------------------------------------------------------------\u001b[0m",
      "\u001b[0;31mTypeError\u001b[0m                                 Traceback (most recent call last)",
      "Cell \u001b[0;32mIn[53], line 33\u001b[0m\n\u001b[1;32m     31\u001b[0m \u001b[38;5;28mprint\u001b[39m(\u001b[38;5;124m\"\u001b[39m\u001b[38;5;124malternative hypothesis: true difference in means is not equal to 0\u001b[39m\u001b[38;5;124m\"\u001b[39m)\n\u001b[1;32m     32\u001b[0m \u001b[38;5;28mprint\u001b[39m(\u001b[38;5;124m\"\u001b[39m\u001b[38;5;124m95 percent confidence interval:\u001b[39m\u001b[38;5;124m\"\u001b[39m)\n\u001b[0;32m---> 33\u001b[0m \u001b[38;5;28mprint\u001b[39m(\u001b[38;5;124mf\u001b[39m\u001b[38;5;124m\"\u001b[39m\u001b[38;5;132;43;01m{\u001b[39;49;00m\u001b[43mci_lower\u001b[49m\u001b[38;5;132;43;01m:\u001b[39;49;00m\u001b[38;5;124;43m.8f\u001b[39;49m\u001b[38;5;132;43;01m}\u001b[39;49;00m\u001b[38;5;124m \u001b[39m\u001b[38;5;132;01m{\u001b[39;00mci_upper\u001b[38;5;132;01m:\u001b[39;00m\u001b[38;5;124m.8f\u001b[39m\u001b[38;5;132;01m}\u001b[39;00m\u001b[38;5;124m\"\u001b[39m)\n\u001b[1;32m     34\u001b[0m \u001b[38;5;28mprint\u001b[39m(\u001b[38;5;124m\"\u001b[39m\u001b[38;5;124msample estimates:\u001b[39m\u001b[38;5;124m\"\u001b[39m)\n\u001b[1;32m     35\u001b[0m \u001b[38;5;28mprint\u001b[39m(\u001b[38;5;124mf\u001b[39m\u001b[38;5;124m\"\u001b[39m\u001b[38;5;124mmean of the differences: \u001b[39m\u001b[38;5;132;01m{\u001b[39;00mmean_diff\u001b[38;5;132;01m:\u001b[39;00m\u001b[38;5;124m.7f\u001b[39m\u001b[38;5;132;01m}\u001b[39;00m\u001b[38;5;124m\"\u001b[39m)\n",
      "\u001b[0;31mTypeError\u001b[0m: unsupported format string passed to numpy.ndarray.__format__"
     ]
    }
   ],
   "source": [
    "import numpy as np\n",
    "from scipy.stats import ttest_rel\n",
    "\n",
    "# Performing the paired t-test\n",
    "t_stat, p_value = ttest_rel(log_Above, log_Below)\n",
    "\n",
    "# Calculating the mean of the differences\n",
    "mean_diff = np.mean(log_Above - log_Below)\n",
    "\n",
    "# Calculating the standard deviation of the differences\n",
    "std_diff = np.std(log_Above - log_Below, ddof=1)\n",
    "\n",
    "# Sample size\n",
    "n = len(log_Above)\n",
    "\n",
    "# Degrees of freedom\n",
    "df = n - 1\n",
    "\n",
    "# Calculating the standard error of the mean difference\n",
    "sem = std_diff / np.sqrt(n)\n",
    "\n",
    "# Confidence interval\n",
    "confidence_level = 0.95\n",
    "t_critical = np.abs(np.percentile(t_stat, [(1 - confidence_level) / 2, 1 - (1 - confidence_level) / 2]))\n",
    "ci_lower = mean_diff - t_critical * sem\n",
    "ci_upper = mean_diff + t_critical * sem\n",
    "\n",
    "# Output the results\n",
    "print(\"Paired t-test\")\n",
    "print(f\"t = {t_stat:.4f}, df = {df}, p-value = {p_value:.4f}\")\n",
    "print(\"alternative hypothesis: true difference in means is not equal to 0\")\n",
    "print(\"95 percent confidence interval:\")\n",
    "print(f\"{ci_lower:.8f} {ci_upper:.8f}\")\n",
    "print(\"sample estimates:\")\n",
    "print(f\"mean of the differences: {mean_diff:.7f}\")\n"
   ]
  }
 ],
 "metadata": {
  "kernelspec": {
   "display_name": "Python 3 (ipykernel)",
   "language": "python",
   "name": "python3"
  },
  "language_info": {
   "codemirror_mode": {
    "name": "ipython",
    "version": 3
   },
   "file_extension": ".py",
   "mimetype": "text/x-python",
   "name": "python",
   "nbconvert_exporter": "python",
   "pygments_lexer": "ipython3",
   "version": "3.12.3"
  }
 },
 "nbformat": 4,
 "nbformat_minor": 5
}
