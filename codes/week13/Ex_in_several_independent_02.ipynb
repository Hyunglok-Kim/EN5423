{
 "cells": [
  {
   "cell_type": "markdown",
   "id": "768fdf24-c423-4789-a412-f0596b3167d5",
   "metadata": {},
   "source": [
    "This code is for EN5423 class at GIST, Republic of Korea, and created by Dr. Hyunglok Kim.  \n",
    "**Contact information**: hyunglokkim@gist.ac.kr  \n",
    "**License**: This work is licensed for non-commercial use only.  \n",
    "**Restrictions**: Do not use this material without permission for teaching or developing other classes."
   ]
  },
  {
   "cell_type": "code",
   "execution_count": 30,
   "id": "7c80fd3e-8b10-4307-b3d2-8136ea999cab",
   "metadata": {},
   "outputs": [],
   "source": [
    "import numpy as np\n",
    "import pandas as pd\n",
    "import matplotlib.pyplot as plt\n",
    "import pyreadr\n",
    "\n",
    "from scipy.stats import fligner\n",
    "import statsmodels.api as sm\n",
    "from statsmodels.formula.api import ols\n",
    "from statsmodels.stats.oneway import anova_oneway\n",
    "\n",
    "# Path to the RDA file\n",
    "file_path = './specapic.rda'\n",
    "# Reading the RDA file\n",
    "result = pyreadr.read_r(file_path)\n",
    "data = result['specapic']"
   ]
  },
  {
   "cell_type": "code",
   "execution_count": 17,
   "id": "93c18d32-b9bc-4d94-a33b-05645492e347",
   "metadata": {},
   "outputs": [
    {
     "data": {
      "text/html": [
       "<div>\n",
       "<style scoped>\n",
       "    .dataframe tbody tr th:only-of-type {\n",
       "        vertical-align: middle;\n",
       "    }\n",
       "\n",
       "    .dataframe tbody tr th {\n",
       "        vertical-align: top;\n",
       "    }\n",
       "\n",
       "    .dataframe thead th {\n",
       "        text-align: right;\n",
       "    }\n",
       "</style>\n",
       "<table border=\"1\" class=\"dataframe\">\n",
       "  <thead>\n",
       "    <tr style=\"text-align: right;\">\n",
       "      <th></th>\n",
       "      <th>spcap</th>\n",
       "      <th>rock</th>\n",
       "    </tr>\n",
       "  </thead>\n",
       "  <tbody>\n",
       "    <tr>\n",
       "      <th>0</th>\n",
       "      <td>132.993439</td>\n",
       "      <td>Dolomite</td>\n",
       "    </tr>\n",
       "    <tr>\n",
       "      <th>1</th>\n",
       "      <td>8.679813</td>\n",
       "      <td>Dolomite</td>\n",
       "    </tr>\n",
       "    <tr>\n",
       "      <th>2</th>\n",
       "      <td>1.550070</td>\n",
       "      <td>Dolomite</td>\n",
       "    </tr>\n",
       "    <tr>\n",
       "      <th>3</th>\n",
       "      <td>0.600015</td>\n",
       "      <td>Dolomite</td>\n",
       "    </tr>\n",
       "    <tr>\n",
       "      <th>4</th>\n",
       "      <td>4.659928</td>\n",
       "      <td>Dolomite</td>\n",
       "    </tr>\n",
       "    <tr>\n",
       "      <th>...</th>\n",
       "      <td>...</td>\n",
       "      <td>...</td>\n",
       "    </tr>\n",
       "    <tr>\n",
       "      <th>195</th>\n",
       "      <td>0.299992</td>\n",
       "      <td>Siliciclastic</td>\n",
       "    </tr>\n",
       "    <tr>\n",
       "      <th>196</th>\n",
       "      <td>0.029999</td>\n",
       "      <td>Siliciclastic</td>\n",
       "    </tr>\n",
       "    <tr>\n",
       "      <th>197</th>\n",
       "      <td>0.919983</td>\n",
       "      <td>Siliciclastic</td>\n",
       "    </tr>\n",
       "    <tr>\n",
       "      <th>198</th>\n",
       "      <td>0.249999</td>\n",
       "      <td>Siliciclastic</td>\n",
       "    </tr>\n",
       "    <tr>\n",
       "      <th>199</th>\n",
       "      <td>1.000000</td>\n",
       "      <td>Siliciclastic</td>\n",
       "    </tr>\n",
       "  </tbody>\n",
       "</table>\n",
       "<p>200 rows × 2 columns</p>\n",
       "</div>"
      ],
      "text/plain": [
       "          spcap           rock\n",
       "0    132.993439       Dolomite\n",
       "1      8.679813       Dolomite\n",
       "2      1.550070       Dolomite\n",
       "3      0.600015       Dolomite\n",
       "4      4.659928       Dolomite\n",
       "..          ...            ...\n",
       "195    0.299992  Siliciclastic\n",
       "196    0.029999  Siliciclastic\n",
       "197    0.919983  Siliciclastic\n",
       "198    0.249999  Siliciclastic\n",
       "199    1.000000  Siliciclastic\n",
       "\n",
       "[200 rows x 2 columns]"
      ]
     },
     "execution_count": 17,
     "metadata": {},
     "output_type": "execute_result"
    }
   ],
   "source": [
    "data"
   ]
  },
  {
   "cell_type": "code",
   "execution_count": 19,
   "id": "fc79b435-9cf9-41d5-b369-ab4a1fc34bba",
   "metadata": {},
   "outputs": [
    {
     "name": "stdout",
     "output_type": "stream",
     "text": [
      "             df         sum_sq      mean_sq        F    PR(>F)\n",
      "rock        3.0    6475.532023  2158.510674  2.51153  0.059859\n",
      "Residual  196.0  168450.315468   859.440385      NaN       NaN\n"
     ]
    }
   ],
   "source": [
    "# Example 1: Specific capacity—Classic ANOVA \n",
    "# Fit the model\n",
    "model = ols('spcap ~ rock', data=data).fit()\n",
    "\n",
    "# Perform ANOVA\n",
    "anova_results = sm.stats.anova_lm(model, typ=1)  # typ=1 for Type I SS which R uses by default\n",
    "\n",
    "# Print the ANOVA table\n",
    "print(anova_results)"
   ]
  },
  {
   "cell_type": "code",
   "execution_count": 25,
   "id": "a7fc306c-37e4-4236-a14d-1f40baa8e8fa",
   "metadata": {},
   "outputs": [
    {
     "name": "stdout",
     "output_type": "stream",
     "text": [
      "Fligner-Killeen test:\n",
      "Chi-squared: 39.45805263692878 , p-value: 1.3880856753298259e-08\n",
      "\n",
      "One-way ANOVA (not assuming equal variances):\n",
      "statistic = 3.439684687787948\n",
      "pvalue = 0.02052032650226662\n",
      "df = (3.0, 82.54121109385693)\n",
      "df_num = 3.0\n",
      "df_denom = 82.54121109385693\n",
      "nobs_t = 200.0\n",
      "n_groups = 4\n",
      "means = [15.49219977  9.83265055  3.15103934  1.07100378]\n",
      "nobs = [50. 50. 50. 50.]\n",
      "vars_ = [1546.74565809 1759.18092118  129.99549886    1.83946202]\n",
      "use_var = unequal\n",
      "welch_correction = True\n",
      "tuple = (3.439684687787948, 0.02052032650226662)\n"
     ]
    }
   ],
   "source": [
    "# Example 2: Specific capacity—Welch’s adjusted ANOVA.\n",
    "# Fligner-Killeen test of homogeneity of variances\n",
    "grouped_data = [data[data['rock'] == rock]['spcap'] for rock in data['rock'].unique()]\n",
    "stat, p = fligner(*grouped_data)\n",
    "\n",
    "print(\"Fligner-Killeen test:\")\n",
    "print(\"Chi-squared:\", stat, \", p-value:\", p)\n",
    "\n",
    "# One-way ANOVA not assuming equal variances\n",
    "anova_results = anova_oneway(data['spcap'], groups=data['rock'], use_var='unequal')\n",
    "\n",
    "print(\"\\nOne-way ANOVA (not assuming equal variances):\")\n",
    "print(anova_results)"
   ]
  },
  {
   "cell_type": "code",
   "execution_count": 31,
   "id": "35a0b685-0e48-4ecd-9f1b-f7dc7e7ae2b3",
   "metadata": {},
   "outputs": [
    {
     "data": {
      "image/png": "[encoded data removed]",
      "text/plain": [
       "<Figure size 1000x600 with 1 Axes>"
      ]
     },
     "metadata": {},
     "output_type": "display_data"
    },
    {
     "name": "stdout",
     "output_type": "stream",
     "text": [
      "Observed F-statistic: 2.511530423479519\n",
      "Permutation p-value: 0.0409 (based on 10000 permutations)\n"
     ]
    }
   ],
   "source": [
    "# Fit ANOVA model to get the F-statistic for the original data\n",
    "model = ols('spcap ~ rock', data=data).fit()\n",
    "aov_table = sm.stats.anova_lm(model, typ=2)\n",
    "f_observed = aov_table['F'].iloc[0]  # Using .iloc for proper indexing\n",
    "\n",
    "# Permutation test setup\n",
    "n_permutations = 10000\n",
    "f_permutations = []\n",
    "\n",
    "for _ in range(n_permutations):\n",
    "    # Shuffle the 'rock' labels\n",
    "    shuffled_rock = np.random.permutation(data['rock'])\n",
    "    data['shuffled_rock'] = shuffled_rock\n",
    "    \n",
    "    # Fit model with shuffled labels\n",
    "    model_shuffled = ols('spcap ~ shuffled_rock', data=data).fit()\n",
    "    aov_table_shuffled = sm.stats.anova_lm(model_shuffled, typ=2)\n",
    "    f_permutations.append(aov_table_shuffled['F'].iloc[0])  # Corrected to use .iloc\n",
    "\n",
    "# Calculate p-value\n",
    "p_value = np.mean([f >= f_observed for f in f_permutations])\n",
    "\n",
    "# Plotting the histogram of the permutation F-statistics\n",
    "plt.figure(figsize=(10, 6))\n",
    "plt.hist(f_permutations, bins=30, color='skyblue', edgecolor='black', alpha=0.7)\n",
    "plt.axvline(f_observed, color='r', linestyle='dashed', linewidth=2)\n",
    "plt.title('Histogram of Permutation F-statistics')\n",
    "plt.xlabel('F-statistic')\n",
    "plt.ylabel('Frequency')\n",
    "plt.text(f_observed, plt.ylim()[1]*0.9, f' Observed F: {f_observed:.2f}', color='red')\n",
    "plt.show()\n",
    "\n",
    "print(f\"Observed F-statistic: {f_observed}\")\n",
    "print(f\"Permutation p-value: {p_value} (based on {n_permutations} permutations)\")"
   ]
  },
  {
   "cell_type": "code",
   "execution_count": 35,
   "id": "31fd283d-1e2c-4110-a0e2-3d8abf7f24c1",
   "metadata": {},
   "outputs": [
    {
     "data": {
      "text/html": [
       "<div>\n",
       "<style scoped>\n",
       "    .dataframe tbody tr th:only-of-type {\n",
       "        vertical-align: middle;\n",
       "    }\n",
       "\n",
       "    .dataframe tbody tr th {\n",
       "        vertical-align: top;\n",
       "    }\n",
       "\n",
       "    .dataframe thead th {\n",
       "        text-align: right;\n",
       "    }\n",
       "</style>\n",
       "<table border=\"1\" class=\"dataframe\">\n",
       "  <thead>\n",
       "    <tr style=\"text-align: right;\">\n",
       "      <th></th>\n",
       "      <th>Fe</th>\n",
       "      <th>Mining</th>\n",
       "      <th>Rocktype</th>\n",
       "      <th>Group</th>\n",
       "    </tr>\n",
       "  </thead>\n",
       "  <tbody>\n",
       "    <tr>\n",
       "      <th>0</th>\n",
       "      <td>0.200000</td>\n",
       "      <td>Unmined</td>\n",
       "      <td>Limestone</td>\n",
       "      <td>lime_un</td>\n",
       "    </tr>\n",
       "    <tr>\n",
       "      <th>1</th>\n",
       "      <td>0.250000</td>\n",
       "      <td>Unmined</td>\n",
       "      <td>Limestone</td>\n",
       "      <td>lime_un</td>\n",
       "    </tr>\n",
       "    <tr>\n",
       "      <th>2</th>\n",
       "      <td>0.040000</td>\n",
       "      <td>Unmined</td>\n",
       "      <td>Limestone</td>\n",
       "      <td>lime_un</td>\n",
       "    </tr>\n",
       "    <tr>\n",
       "      <th>3</th>\n",
       "      <td>0.060000</td>\n",
       "      <td>Unmined</td>\n",
       "      <td>Limestone</td>\n",
       "      <td>lime_un</td>\n",
       "    </tr>\n",
       "    <tr>\n",
       "      <th>4</th>\n",
       "      <td>1.200000</td>\n",
       "      <td>Unmined</td>\n",
       "      <td>Limestone</td>\n",
       "      <td>lime_un</td>\n",
       "    </tr>\n",
       "    <tr>\n",
       "      <th>...</th>\n",
       "      <td>...</td>\n",
       "      <td>...</td>\n",
       "      <td>...</td>\n",
       "      <td>...</td>\n",
       "    </tr>\n",
       "    <tr>\n",
       "      <th>73</th>\n",
       "      <td>11.999998</td>\n",
       "      <td>Reclaimed</td>\n",
       "      <td>Sandstone</td>\n",
       "      <td>sand_re</td>\n",
       "    </tr>\n",
       "    <tr>\n",
       "      <th>74</th>\n",
       "      <td>0.600000</td>\n",
       "      <td>Reclaimed</td>\n",
       "      <td>Sandstone</td>\n",
       "      <td>sand_re</td>\n",
       "    </tr>\n",
       "    <tr>\n",
       "      <th>75</th>\n",
       "      <td>13.999998</td>\n",
       "      <td>Reclaimed</td>\n",
       "      <td>Sandstone</td>\n",
       "      <td>sand_re</td>\n",
       "    </tr>\n",
       "    <tr>\n",
       "      <th>76</th>\n",
       "      <td>0.810000</td>\n",
       "      <td>Reclaimed</td>\n",
       "      <td>Sandstone</td>\n",
       "      <td>sand_re</td>\n",
       "    </tr>\n",
       "    <tr>\n",
       "      <th>77</th>\n",
       "      <td>0.980000</td>\n",
       "      <td>Reclaimed</td>\n",
       "      <td>Sandstone</td>\n",
       "      <td>sand_re</td>\n",
       "    </tr>\n",
       "  </tbody>\n",
       "</table>\n",
       "<p>78 rows × 4 columns</p>\n",
       "</div>"
      ],
      "text/plain": [
       "           Fe     Mining   Rocktype    Group\n",
       "0    0.200000    Unmined  Limestone  lime_un\n",
       "1    0.250000    Unmined  Limestone  lime_un\n",
       "2    0.040000    Unmined  Limestone  lime_un\n",
       "3    0.060000    Unmined  Limestone  lime_un\n",
       "4    1.200000    Unmined  Limestone  lime_un\n",
       "..        ...        ...        ...      ...\n",
       "73  11.999998  Reclaimed  Sandstone  sand_re\n",
       "74   0.600000  Reclaimed  Sandstone  sand_re\n",
       "75  13.999998  Reclaimed  Sandstone  sand_re\n",
       "76   0.810000  Reclaimed  Sandstone  sand_re\n",
       "77   0.980000  Reclaimed  Sandstone  sand_re\n",
       "\n",
       "[78 rows x 4 columns]"
      ]
     },
     "execution_count": 35,
     "metadata": {},
     "output_type": "execute_result"
    }
   ],
   "source": [
    "# Example 4: Iron at low flows—Two-factor ANOVA\n",
    "# Path to the RDA file\n",
    "file_path = './iron.rda'\n",
    "# Reading the RDA file\n",
    "result = pyreadr.read_r(file_path)\n",
    "data_iron = result['iron']"
   ]
  },
  {
   "cell_type": "code",
   "execution_count": 38,
   "id": "1475df7d-dd35-44db-875a-f6ee54aa34e7",
   "metadata": {},
   "outputs": [
    {
     "name": "stdout",
     "output_type": "stream",
     "text": [
      "Shapiro-Wilk normality test\n",
      "W = 0.3350742649225724, p-value = 4.6104433466381143e-17\n",
      "\n",
      "ANOVA table:\n",
      "                              sum_sq    df         F    PR(>F)\n",
      "C(Mining)               32282.304955   2.0  2.492636  0.089804\n",
      "C(Rocktype)             15411.161730   1.0  2.379906  0.127289\n",
      "C(Mining):C(Rocktype)   25868.829021   2.0  1.997428  0.143133\n",
      "Residual               466238.520226  72.0       NaN       NaN\n"
     ]
    },
    {
     "data": {
      "text/plain": [
       "<Figure size 600x600 with 0 Axes>"
      ]
     },
     "metadata": {},
     "output_type": "display_data"
    },
    {
     "data": {
      "image/png": "[encoded data removed]",
      "text/plain": [
       "<Figure size 640x480 with 1 Axes>"
      ]
     },
     "metadata": {},
     "output_type": "display_data"
    },
    {
     "name": "stdout",
     "output_type": "stream",
     "text": [
      "Fligner-Killeen test of homogeneity of variances\n",
      "Chi-squared = 23.79247744356734, df = 5, p-value = 0.00023798153092770443\n"
     ]
    }
   ],
   "source": [
    "# Fit ANOVA model\n",
    "model = ols('Fe ~ C(Mining) * C(Rocktype)', data=data_iron).fit()\n",
    "\n",
    "# Shapiro-Wilk test on residuals\n",
    "shapiro_test = stats.shapiro(model.resid)\n",
    "print(\"Shapiro-Wilk normality test\")\n",
    "print(f\"W = {shapiro_test.statistic}, p-value = {shapiro_test.pvalue}\")\n",
    "\n",
    "# Summary of the ANOVA model\n",
    "anova_table = sm.stats.anova_lm(model, typ=2)  # Type II ANOVA DataFrame\n",
    "print(\"\\nANOVA table:\")\n",
    "print(anova_table)\n",
    "\n",
    "# Q-Q plot of residuals\n",
    "plt.figure(figsize=(6, 6))\n",
    "sm.qqplot(model.resid, line='s')\n",
    "plt.title('Normal Q-Q plot of residuals')\n",
    "plt.show()\n",
    "\n",
    "# Fligner-Killeen test of homogeneity of variances\n",
    "fligner_test = stats.fligner(*[group['Fe'].values for name, group in data_iron.groupby('Group', observed=True)])\n",
    "print(\"Fligner-Killeen test of homogeneity of variances\")\n",
    "print(f\"Chi-squared = {fligner_test.statistic}, df = {len(data_iron['Group'].unique()) - 1}, p-value = {fligner_test.pvalue}\")"
   ]
  },
  {
   "cell_type": "code",
   "execution_count": 40,
   "id": "e8b3174d-1ab2-4d19-8c19-8ae91efbd5ec",
   "metadata": {},
   "outputs": [
    {
     "name": "stdout",
     "output_type": "stream",
     "text": [
      "\n",
      "ANOVA table:\n",
      "                           sum_sq    df          F    PR(>F)\n",
      "C(Mining)               69.746910   2.0  15.890508  0.000002\n",
      "C(Rocktype)             26.312445   1.0  11.989581  0.000904\n",
      "C(Mining):C(Rocktype)    2.441812   2.0   0.556320  0.575759\n",
      "Residual               158.011862  72.0        NaN       NaN\n"
     ]
    }
   ],
   "source": [
    "# Example 5: Iron at low flows—Two-actor ANOVA using logarithms\n",
    "# Fit ANOVA model\n",
    "model = ols('np.log(Fe) ~ C(Mining) * C(Rocktype)', data=data_iron).fit()\n",
    "\n",
    "# Summary of the ANOVA model\n",
    "anova_table = sm.stats.anova_lm(model, typ=2)  # Type II ANOVA DataFrame\n",
    "print(\"\\nANOVA table:\")\n",
    "print(anova_table)"
   ]
  }
 ],
 "metadata": {
  "kernelspec": {
   "display_name": "Python 3 (ipykernel)",
   "language": "python",
   "name": "python3"
  },
  "language_info": {
   "codemirror_mode": {
    "name": "ipython",
    "version": 3
   },
   "file_extension": ".py",
   "mimetype": "text/x-python",
   "name": "python",
   "nbconvert_exporter": "python",
   "pygments_lexer": "ipython3",
   "version": "3.12.3"
  }
 },
 "nbformat": 4,
 "nbformat_minor": 5
}
