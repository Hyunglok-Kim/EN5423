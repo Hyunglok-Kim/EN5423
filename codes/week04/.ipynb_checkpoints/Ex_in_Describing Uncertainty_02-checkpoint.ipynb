{
 "cells": [
  {
   "cell_type": "markdown",
   "id": "768fdf24-c423-4789-a412-f0596b3167d5",
   "metadata": {},
   "source": [
    "This code is for EN5423 class at GIST, Republic of Korea, and created by Dr. Hyunglok Kim.  \n",
    "**Contact information**: hyunglokkim@gist.ac.kr  \n",
    "**License**: This work is licensed for non-commercial use only.  \n",
    "**Restrictions**: Do not use this material without permission for teaching or developing other classes."
   ]
  },
  {
   "cell_type": "code",
   "execution_count": 4,
   "id": "366ec8a3-8d9e-484f-893a-bd1cf310dc90",
   "metadata": {
    "tags": []
   },
   "outputs": [],
   "source": [
    "import os\n",
    "import numpy as np\n",
    "import pandas as pd\n",
    "import matplotlib.pyplot as plt\n",
    "\n",
    "from scipy.stats import binom, percentileofscore\n",
    "from scipy.stats import binom\n",
    "from scipy.stats import norm\n",
    "from scipy.stats import nct"
   ]
  },
  {
   "cell_type": "code",
   "execution_count": 4,
   "id": "0fa32a00-601b-4fdc-8a85-b580f87353ca",
   "metadata": {},
   "outputs": [
    {
     "name": "stdout",
     "output_type": "stream",
     "text": [
      "Weibull 5th percentile: 1.36\n",
      "Weibull 95th percentile: 507.99999999999955\n"
     ]
    }
   ],
   "source": [
    "def weibull_percentiles(data, percentiles):\n",
    "    N = len(data)\n",
    "    sorted_data = np.sort(data)\n",
    "    # Calculate Weibull plotting positions for each observation\n",
    "    weibull_positions = (np.arange(1, N + 1) - 0.0) / (N + 1.0)\n",
    "    # Interpolate to find the values at the desired percentiles\n",
    "    desired_positions = np.array(percentiles) / 100.0\n",
    "    percentile_values = np.interp(desired_positions, weibull_positions, sorted_data)\n",
    "    return percentile_values\n",
    "\n",
    "# Example data and percentiles\n",
    "arsenic_concentrations = np.array([1.3, 1.5, 1.8, 2.6, 2.8, 3.5, 4.0, 4.8, 8.0, 9.5, 12, 14, 19, 23, 41, 80, 100, 110, 120, 190, 240, 250, 300, 340, 580])\n",
    "percentiles = [5, 95]  # Example: 5th and 95th percentiles\n",
    "\n",
    "# Calculate percentiles using Weibull plotting positions\n",
    "weibull_percentile_values = weibull_percentiles(arsenic_concentrations, percentiles)\n",
    "print(f\"Weibull 5th percentile: {weibull_percentile_values[0]}\")\n",
    "print(f\"Weibull 95th percentile: {weibull_percentile_values[1]}\")"
   ]
  },
  {
   "cell_type": "markdown",
   "id": "6bfb0948-346a-48b5-ae4b-5442f36b1382",
   "metadata": {},
   "source": [
    "### Example 4"
   ]
  },
  {
   "cell_type": "code",
   "execution_count": 12,
   "id": "73226ada-e5a4-483d-81ba-0e4b619b9617",
   "metadata": {},
   "outputs": [
    {
     "name": "stdout",
     "output_type": "stream",
     "text": [
      "20th percentile (C_0.20) = 2.94 ppb\n"
     ]
    }
   ],
   "source": [
    "arsenic_concentrations = np.array([1.3, 1.5, 1.8, 2.6, 2.8, 3.5, 4.0, 4.8, 8.0, 9.5, 12, 14, 19, 23, 41, 80, 100, 110, 120, 190, 240, 250, 300, 340, 580])\n",
    "C_0_20 = weibull_percentiles(arsenic_concentrations, 20)\n",
    "\n",
    "print(f\"20th percentile (C_0.20) = {C_0_20} ppb\")"
   ]
  },
  {
   "cell_type": "code",
   "execution_count": 15,
   "id": "fe834978-deae-4c4e-b4c1-344a56653420",
   "metadata": {},
   "outputs": [
    {
     "name": "stdout",
     "output_type": "stream",
     "text": [
      "Lower rank: 1, Upper rank: 9\n"
     ]
    }
   ],
   "source": [
    "n = len(arsenic_concentrations)\n",
    "p = 0.2\n",
    "lower_rank, upper_rank = binom.ppf([0.025, 0.975], n, p).astype(int)\n",
    "print(f\"Lower rank: {lower_rank}, Upper rank: {upper_rank}\")"
   ]
  },
  {
   "cell_type": "code",
   "execution_count": 17,
   "id": "076c4d6a-1d8f-4c75-87dd-2eadf03bff8c",
   "metadata": {},
   "outputs": [
    {
     "name": "stdout",
     "output_type": "stream",
     "text": [
      "Sum of probabilities of inclusion: 0.9552784048575103\n"
     ]
    }
   ],
   "source": [
    "sum_probabilities = binom.cdf(upper_rank, n, p) - binom.cdf(lower_rank, n, p)\n",
    "print(f\"Sum of probabilities of inclusion: {sum_probabilities}\")"
   ]
  },
  {
   "cell_type": "markdown",
   "id": "363323df-52c1-4fb7-922e-cb59d060bfc0",
   "metadata": {},
   "source": [
    "### Example 5"
   ]
  },
  {
   "cell_type": "code",
   "execution_count": 23,
   "id": "1ec0ddd0-d288-41cc-a482-4ebc4a26be0f",
   "metadata": {},
   "outputs": [
    {
     "name": "stdout",
     "output_type": "stream",
     "text": [
      "Bootstrap 95% Confidence Interval for the 20th percentile: (1.56, 9.5)\n"
     ]
    }
   ],
   "source": [
    "# Number of bootstrap samples\n",
    "n_bootstrap_samples = 10000\n",
    "\n",
    "# Function to calculate the 20th percentile\n",
    "def percentile_20(data):\n",
    "    return weibull_percentiles(data, 20)\n",
    "\n",
    "# Store bootstrapped 20th percentiles\n",
    "bootstrapped_20th_percentiles = []\n",
    "\n",
    "for _ in range(n_bootstrap_samples):\n",
    "    # Sample with replacement\n",
    "    bootstrap_sample = np.random.choice(arsenic_concentrations, size=len(arsenic_concentrations), replace=True)\n",
    "    # Calculate and store the 20th percentile of this bootstrap sample\n",
    "    bootstrapped_20th_percentiles.append(percentile_20(bootstrap_sample))\n",
    "\n",
    "# Calculate the 95% confidence interval from the bootstrapped 20th percentiles\n",
    "lower_bound = np.percentile(bootstrapped_20th_percentiles, 2.5)\n",
    "upper_bound = np.percentile(bootstrapped_20th_percentiles, 97.5)\n",
    "\n",
    "print(f\"Bootstrap 95% Confidence Interval for the 20th percentile: ({lower_bound}, {upper_bound})\")"
   ]
  },
  {
   "cell_type": "code",
   "execution_count": 43,
   "id": "7cb0fb38-72cb-40d1-af19-e2f486bbf702",
   "metadata": {},
   "outputs": [
    {
     "name": "stdout",
     "output_type": "stream",
     "text": [
      "80th percentile: 252.4\n"
     ]
    },
    {
     "data": {
      "text/plain": [
       "116"
      ]
     },
     "execution_count": 43,
     "metadata": {},
     "output_type": "execute_result"
    }
   ],
   "source": [
    "base_FP = '/Users/hyunglokkim/Insync/hkim@geol.sc.edu/Google_Drive/'\n",
    "FP = base_FP + '/GIST/0.Lectures/2024_Spring/EN5423/datasets/week04'\n",
    "input_file = 'James.Q.csv'\n",
    "\n",
    "# Read the CSV file and select the second column\n",
    "# Assuming 'James.Q.csv' is the file name and the second column has a header named 'Q'\n",
    "df = pd.read_csv(os.path.join(FP, input_file))\n",
    "Q = df.iloc[:, 1]  # This selects the second column assuming it's the second column you're interested in\n",
    "\n",
    "# Calculate the length of Q\n",
    "n = len(Q)\n",
    "\n",
    "# Calculate the 80th percentile using numpy, which by default uses a method similar to type = 6 in R\n",
    "quantile_80 = np.percentile(Q, 80)\n",
    "\n",
    "print(f\"80th percentile: {quantile_80}\")"
   ]
  },
  {
   "cell_type": "code",
   "execution_count": 40,
   "id": "8fd107f7-f727-4596-a402-36ad1c10d2c5",
   "metadata": {},
   "outputs": [
    {
     "data": {
      "image/png": "[encoded data removed]",
      "text/plain": [
       "<Figure size 432x288 with 1 Axes>"
      ]
     },
     "metadata": {
      "needs_background": "light"
     },
     "output_type": "display_data"
    }
   ],
   "source": [
    "# Plotting the histogram\n",
    "plt.hist(Q, bins=20, edgecolor='black')  # Adjust bins as needed for better visualization\n",
    "plt.title('Histogram of Q Values')\n",
    "plt.xlabel('Q Values')\n",
    "plt.ylabel('Frequency')\n",
    "plt.show()"
   ]
  },
  {
   "cell_type": "code",
   "execution_count": 46,
   "id": "e61a1b80-e723-4373-9399-e2cb8280fce3",
   "metadata": {},
   "outputs": [
    {
     "name": "stdout",
     "output_type": "stream",
     "text": [
      "RL (converted to percentile): 73.15191098427847%\n",
      "RU (converted to percentile): 87.71015798123878%\n",
      "Quantile at RL/n: 236.9496371583043\n",
      "Quantile at RU/n: 266.23336335684917\n"
     ]
    }
   ],
   "source": [
    "# Calculate the ranks (RL and RU) based on the formula provided in R\n",
    "RL = n * 0.8 + norm.ppf(0.025) * np.sqrt(n * 0.8 * 0.2) + 0.5\n",
    "RU = n * 0.8 + norm.ppf(0.975) * np.sqrt(n * 0.8 * 0.2) + 0.5\n",
    "\n",
    "# Calculate the quantiles at RL/n and RU/n\n",
    "quantiles = np.percentile(Q, [RL/n * 100, RU/n * 100])\n",
    "\n",
    "print(f\"RL (converted to percentile): {RL/n * 100}%\")\n",
    "print(f\"RU (converted to percentile): {RU/n * 100}%\")\n",
    "print(f\"Quantile at RL/n: {quantiles[0]}\")\n",
    "print(f\"Quantile at RU/n: {quantiles[1]}\")"
   ]
  },
  {
   "cell_type": "markdown",
   "id": "ea30ba5f-cc25-4eff-a2b9-679fc6361678",
   "metadata": {},
   "source": [
    "### Homework04 #4: \n",
    "Compute a 90-percent confidence interval for the 90th percentile of the arsenic concentrations found in Example 1, assuming the data are lognormal."
   ]
  },
  {
   "cell_type": "code",
   "execution_count": 88,
   "id": "9c40d885-d2ec-4b9b-ac44-6d1f701b497c",
   "metadata": {},
   "outputs": [
    {
     "data": {
      "text/plain": [
       "[133.83160210007335, 813.8711104481922]"
      ]
     },
     "execution_count": 88,
     "metadata": {},
     "output_type": "execute_result"
    }
   ],
   "source": [
    "# The 90th percentile, assuming concentrations are lognormal, is as given in equation 5\n",
    "p = 0.9\n",
    "alpha = 0.1\n",
    "\n",
    "ln_arsenic_concentrations = np.log(arsenic_concentrations)\n",
    "n = len(ln_arsenic_concentrations)\n",
    "y_hat = np.mean(ln_arsenic_concentrations)\n",
    "s_y = np.std(ln_arsenic_concentrations)\n",
    "z_0_9 = norm.ppf(p)\n",
    "\n",
    "z_0_95 = norm.ppf(1-alpha/2)\n",
    "z_0_05 = norm.ppf(alpha/2)\n",
    "\n",
    "C_0_9 = np.exp(y_hat + z_0_9*s_y)\n",
    "\n",
    "\n",
    "df = n-1   # degrees of freedom\n",
    "ncp = (-n**0.5)*z_0_9    # noncentrality parameter\n",
    "\n",
    "percentile_95 = nct.ppf(1-alpha/2, df, ncp)\n",
    "percentile_05 = nct.ppf(alpha/2, df, ncp)\n",
    "\n",
    "CI_L = np.exp(y_hat-(1/n**0.5)*percentile_95*s_y)\n",
    "CI_U = np.exp(y_hat-(1/n**0.5)*percentile_05*s_y)\n",
    "[CI_L, CI_U]"
   ]
  },
  {
   "cell_type": "markdown",
   "id": "950e1741-a615-4b2f-b617-e2c89ffc912f",
   "metadata": {},
   "source": [
    "### Example 8: Nonparametric upper tolerance limit as a test for whether the 90th percentile is below the regional 7Q10"
   ]
  },
  {
   "cell_type": "code",
   "execution_count": 7,
   "id": "18b3e847-8cfc-4e8f-bf73-aaf9ab4844cf",
   "metadata": {},
   "outputs": [],
   "source": [
    "Q_7min = np.sort(np.array([0.0194, 0.0227, 0.0368, 0.0392, 0.0413, 0.0429, 0.0498, 0.0522,\n",
    "       0.0603, 0.0704, 0.0708, 0.0801, 0.0825, 0.0841, 0.0858, 0.0874,\n",
    "       0.0926, 0.093, 0.1048, 0.108, 0.1141, 0.1157, 0.1201, 0.1205,\n",
    "       0.123, 0.1258, 0.127, 0.1359, 0.1388, 0.1418, 0.1598, 0.1622,\n",
    "       0.1634, 0.1683, 0.1707, 0.1711, 0.1731, 0.1744, 0.1748, 0.1853,\n",
    "       0.2013, 0.2225, 0.2253, 0.2265, 0.2421, 0.2468, 0.2557, 0.2629,\n",
    "       0.2743, 0.2767, 0.284, 0.288, 0.3014, 0.3107, 0.3236, 0.3277,\n",
    "       0.36, 0.3803, 0.4284, 0.445, 0.4482, 0.5582, 0.5663, 0.6392,\n",
    "       0.6432, 0.7484, 0.805, 1.1735]))"
   ]
  },
  {
   "cell_type": "code",
   "execution_count": 29,
   "id": "7edae45f-2633-4e5f-87f2-da21e4501927",
   "metadata": {},
   "outputs": [
    {
     "data": {
      "text/plain": [
       "0.07578657794117648"
      ]
     },
     "execution_count": 29,
     "metadata": {},
     "output_type": "execute_result"
    }
   ],
   "source": [
    "n = len(Q_7min)  # Number of observations in your dataset\n",
    "RU = 0.1  # Define the rank of the upper quantile you are interested in\n",
    "# Calculate the Weibull plotting position for the given rank\n",
    "probs = (np.arange(1, n+1)) / (n + 1)\n",
    "RU = 0.1\n",
    "xUpper = np.interp(RU, probs, Q_7min)\n",
    "xUpper\n",
    "\n",
    "x0 = np.interp(11.369/n, probs, Q_7min)\n",
    "x0"
   ]
  }
 ],
 "metadata": {
  "kernelspec": {
   "display_name": "Python 3 (ipykernel)",
   "language": "python",
   "name": "python3"
  },
  "language_info": {
   "codemirror_mode": {
    "name": "ipython",
    "version": 3
   },
   "file_extension": ".py",
   "mimetype": "text/x-python",
   "name": "python",
   "nbconvert_exporter": "python",
   "pygments_lexer": "ipython3",
   "version": "3.12.0"
  }
 },
 "nbformat": 4,
 "nbformat_minor": 5
}
