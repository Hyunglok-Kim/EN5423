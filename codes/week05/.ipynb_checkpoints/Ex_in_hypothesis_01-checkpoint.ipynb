{
 "cells": [
  {
   "cell_type": "markdown",
   "id": "768fdf24-c423-4789-a412-f0596b3167d5",
   "metadata": {},
   "source": [
    "This code is for EN5423 class at GIST, Republic of Korea, and created by Dr. Hyunglok Kim.  \n",
    "**Contact information**: hyunglokkim@gist.ac.kr  \n",
    "**License**: This work is licensed for non-commercial use only.  \n",
    "**Restrictions**: Do not use this material without permission for teaching or developing other classes."
   ]
  },
  {
   "cell_type": "code",
   "execution_count": 1,
   "id": "c80d7e58-f95c-4324-a464-8d4095ce7bb4",
   "metadata": {},
   "outputs": [],
   "source": [
    "import numpy as np\n",
    "from scipy.stats import ttest_ind, mannwhitneyu"
   ]
  },
  {
   "cell_type": "code",
   "execution_count": 3,
   "id": "2bd7296e-e2a3-4585-a612-4253875ba5e3",
   "metadata": {
    "tags": []
   },
   "outputs": [
    {
     "name": "stdout",
     "output_type": "stream",
     "text": [
      "U-statistic: 0.0, P-value: 0.047619047619047616\n"
     ]
    }
   ],
   "source": [
    "# Set the random seed to ensure reproducibility\n",
    "np.random.seed(100)\n",
    "\n",
    "# Generate random normal variables\n",
    "x = np.random.normal(loc=40, scale=5, size=2)\n",
    "y = np.random.normal(loc=50, scale=5, size=5)\n",
    "\n",
    "# Perform the one-sided Mann-Whitney U test (equivalent to the Wilcoxon rank-sum test)\n",
    "# Note: In scipy’s mannwhitneyu function, use of the alternative parameter\n",
    "# 'less' indicates a one-sided test where the hypothesis is that x has a tendency\n",
    "# to have smaller values than y.\n",
    "u_statistic, p_value = mannwhitneyu(x, y, alternative='less')\n",
    "\n",
    "print(f\"U-statistic: {u_statistic}, P-value: {p_value}\")"
   ]
  },
  {
   "cell_type": "code",
   "execution_count": 4,
   "id": "f27646cc-12d2-4a1e-9350-40a72d9696e9",
   "metadata": {},
   "outputs": [
    {
     "name": "stdout",
     "output_type": "stream",
     "text": [
      "U-statistic: 0.0, P-value: 0.09523809523809523\n"
     ]
    }
   ],
   "source": [
    "u_statistic, p_value = mannwhitneyu(x, y, alternative='two-sided')\n",
    "\n",
    "print(f\"U-statistic: {u_statistic}, P-value: {p_value}\")"
   ]
  },
  {
   "cell_type": "code",
   "execution_count": 5,
   "id": "ccdd8d1a-389a-4b93-a5f2-ab4b3656f049",
   "metadata": {},
   "outputs": [
    {
     "name": "stdout",
     "output_type": "stream",
     "text": [
      "U-statistic: 0.0, P-value: 0.09523809523809523\n"
     ]
    }
   ],
   "source": [
    "u_statistic, p_value = mannwhitneyu(x, y, alternative='two-sided')\n",
    "\n",
    "print(f\"U-statistic: {u_statistic}, P-value: {p_value}\")"
   ]
  },
  {
   "cell_type": "markdown",
   "id": "85f52ebe-76f4-4dce-b304-4b2004c909a1",
   "metadata": {},
   "source": [
    "# HW05 #1 Hypothesis Testing with Environmental Data\n",
    "\n",
    "#### Background:\n",
    "\n",
    "Suppose you are an environmental scientist analyzing the impact of two different waste management practices on the concentration of a specific contaminant in groundwater. Practice A is an older, traditional waste management method, whereas Practice B incorporates newer, potentially more environmentally friendly technology.\n",
    "This exercise is designed to enhance your understanding of how to apply statistical hypothesis testing to environmental data using Python. It encompasses data simulation, visualization, normality testing, and selecting the appropriate hypothesis test based on the characteristics of the data.\n",
    "\n",
    "\n",
    "# Objective:\n",
    "\n",
    "Your goal is to determine if there is a statistically significant difference in contaminant concentration levels in groundwater between the two waste management practices.\n",
    "\n",
    "First, you will need to load the CSV file which contains: contaminant-A and Contaminant_B."
   ]
  },
  {
   "cell_type": "code",
   "execution_count": 10,
   "id": "9510cc31-70df-4573-85c9-9078c227cdd6",
   "metadata": {},
   "outputs": [
    {
     "name": "stdout",
     "output_type": "stream",
     "text": [
      "   Contaminant_A  Contaminant_B\n",
      "0      33.006818       0.815941\n",
      "1      17.491861     110.449275\n",
      "2      38.385836       2.645885\n",
      "3      92.114269       0.327777\n",
      "4      15.892489      14.084710\n"
     ]
    }
   ],
   "source": [
    "import pandas as pd\n",
    "# Load the CSV file\n",
    "file_path = \"contaminant_levels.csv\"  # Students should update the path accordingly\n",
    "data = pd.read_csv(file_path)\n",
    "\n",
    "# Display the first few rows of the dataframe\n",
    "print(data.head())"
   ]
  },
  {
   "cell_type": "markdown",
   "id": "04fa13ec-be5d-485b-99bb-3e5dddd976db",
   "metadata": {},
   "source": [
    "## Tasks\n",
    "\n",
    "### Task 1: Data Visualization\n",
    "\n",
    "Visualize the distribution of contaminant concentrations for both practices using histograms or box plots. Utilize libraries such as Matplotlib or Seaborn for visualization.\n",
    "\n",
    "```python\n",
    "# Example Python code snippet for visualization\n",
    "import matplotlib.pyplot as plt\n",
    "import seaborn as sns"
   ]
  },
  {
   "cell_type": "code",
   "execution_count": 20,
   "id": "14050799-753f-4a9b-a8ea-bd22b1a326c4",
   "metadata": {},
   "outputs": [],
   "source": [
    "# Visualization code here\n"
   ]
  },
  {
   "cell_type": "markdown",
   "id": "3ef51e04-9861-462a-bb56-915acfeb3cda",
   "metadata": {},
   "source": [
    "### Task 2: Normality Test\n",
    "\n",
    "Before applying a parametric hypothesis test, assess if the contaminant concentration levels follow a normal distribution for both practices. Employ the Shapiro-Wilk test for normality."
   ]
  },
  {
   "cell_type": "code",
   "execution_count": 16,
   "id": "e504d4b0-275a-4631-9feb-1613b6ae0233",
   "metadata": {},
   "outputs": [
    {
     "name": "stdout",
     "output_type": "stream",
     "text": [
      "Contaminant_A: Statistics=0.7232310175895691, p=3.460963853285648e-06\n",
      "Contaminant_B: Statistics=0.4158380627632141, p=1.1465015742340157e-10\n"
     ]
    }
   ],
   "source": [
    "from scipy.stats import shapiro\n",
    "\n",
    "\n",
    "# Perform Shapiro-Wilk test\n",
    "# shapiro_test_statistic, p_value = shapiro(data['Contaminant_A'])\n",
    "# Interpret the results\n"
   ]
  },
  {
   "cell_type": "markdown",
   "id": "6c6f16d4-5b43-41ba-b934-0af9ae4e6664",
   "metadata": {},
   "source": [
    "### Task 3: Hypothesis Testing\n",
    "\n",
    "Determine if there is a statistically significant difference in the mean contaminant concentration levels between the two waste management practices.\n",
    "\n",
    "    If both samples are normally distributed, consider using a t-test. Use an independent t-test if the variances are equal; otherwise, use Welch's t-test.\n",
    "    If the normality assumption is violated, opt for a non-parametric test such as the Mann-Whitney U test.\n",
    "    Set your significance level at 0.05."
   ]
  },
  {
   "cell_type": "code",
   "execution_count": 19,
   "id": "47bc4ab4-6ba8-4e3a-b7de-6e68608e9b2a",
   "metadata": {},
   "outputs": [
    {
     "name": "stdout",
     "output_type": "stream",
     "text": [
      "T-test: Statistics=3.020929996361693, p=0.003638331782043606\n",
      "Mann-Whitney U test: Statistics=885.0, p=1.1188853840957398e-06\n"
     ]
    }
   ],
   "source": [
    "from scipy.stats import ttest_ind, mannwhitneyu\n",
    "\n"
   ]
  },
  {
   "cell_type": "markdown",
   "id": "72ff3496-47c6-40eb-84f2-b39ea32838a0",
   "metadata": {},
   "source": [
    "### Task 4: Interpretation\n",
    "\n",
    "Based on the p-value obtained from your hypothesis test, provide an interpretation of whether there is a statistically significant difference in groundwater contaminant concentrations between the two waste management practices. \n"
   ]
  },
  {
   "cell_type": "markdown",
   "id": "527db8fb-cf61-4424-9b2d-6d41f492d284",
   "metadata": {},
   "source": [
    "### Deliverables\n",
    "\n",
    "Submit a Jupyter notebook containing:\n",
    "\n",
    "    The code for data simulation, visualization, normality testing, and hypothesis testing.\n",
    "    Comments explaining your analysis steps and the interpretation of the test results."
   ]
  }
 ],
 "metadata": {
  "kernelspec": {
   "display_name": "Python 3 (ipykernel)",
   "language": "python",
   "name": "python3"
  },
  "language_info": {
   "codemirror_mode": {
    "name": "ipython",
    "version": 3
   },
   "file_extension": ".py",
   "mimetype": "text/x-python",
   "name": "python",
   "nbconvert_exporter": "python",
   "pygments_lexer": "ipython3",
   "version": "3.10.5"
  }
 },
 "nbformat": 4,
 "nbformat_minor": 5
}
