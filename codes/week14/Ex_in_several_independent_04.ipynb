{
 "cells": [
  {
   "cell_type": "markdown",
   "id": "768fdf24-c423-4789-a412-f0596b3167d5",
   "metadata": {},
   "source": [
    "This code is for EN5423 class at GIST, Republic of Korea, and created by Dr. Hyunglok Kim.  \n",
    "**Contact information**: hyunglokkim@gist.ac.kr  \n",
    "**License**: This work is licensed for non-commercial use only.  \n",
    "**Restrictions**: Do not use this material without permission for teaching or developing other classes."
   ]
  },
  {
   "cell_type": "code",
   "execution_count": 17,
   "id": "29a44b83-6a40-49a3-95e6-75fdec5d3ad2",
   "metadata": {},
   "outputs": [],
   "source": [
    "import pandas as pd\n",
    "import numpy as np\n",
    "\n",
    "from scipy.stats import friedmanchisquare\n",
    "from itertools import combinations"
   ]
  },
  {
   "cell_type": "code",
   "execution_count": 12,
   "id": "3aaf876e-ff6e-494e-b820-0ab8c073e274",
   "metadata": {},
   "outputs": [
    {
     "name": "stdout",
     "output_type": "stream",
     "text": [
      "Overall: 2.527760416582459\n",
      "\n",
      "Row Effects:\n",
      "0   -0.399271\n",
      "1   -0.044271\n",
      "2   -0.505937\n",
      "3   -0.369271\n",
      "4   -0.365937\n",
      "5   -0.653438\n",
      "dtype: float64\n",
      "\n",
      "Column Effects:\n",
      "Site1   -2.384062\n",
      "Site2   -2.379062\n",
      "Site3   -1.077396\n",
      "Site4    0.730937\n",
      "Site5    5.052604\n",
      "Site6    3.022604\n",
      "dtype: float64\n",
      "\n",
      "Residuals:\n",
      "      Site1     Site2     Site3     Site4     Site5     Site6\n",
      "0  0.213333  2.998333 -0.213333 -1.311667 -3.743333  0.286667\n",
      "1 -0.491667 -0.496667 -0.908333  0.603333  1.891667  0.491667\n",
      "2  0.120000  0.115000  0.213333 -0.115000 -0.176667 -1.106667\n",
      "3 -0.176667 -0.211667 -0.653333  0.278333  0.176667  0.566667\n",
      "4 -0.120000 -0.115000  0.593333  0.115000  1.113333 -0.286667\n",
      "5  0.187500  0.402500  3.010833 -0.187500 -1.919167 -1.099167\n"
     ]
    }
   ],
   "source": [
    "# Example 1: Mercury in periphyton—Median polish.\n",
    "def median_polish(data, n_iter=100, tol=1e-10):\n",
    "    \"\"\"Performs median polish\n",
    "    Args:\n",
    "        data: pd data frame\n",
    "        n_iter: maximum number of iterations\n",
    "        tol: tolerance for convergence\n",
    "    Returns:\n",
    "        a dict with:\n",
    "            'overall': overall median\n",
    "            'row': row effects\n",
    "            'column': column effects\n",
    "            'residuals': residuals\n",
    "    \"\"\"\n",
    "    data = data.copy()\n",
    "    overall_effect = np.median(data)\n",
    "    data -= overall_effect\n",
    "    row_effects = np.zeros(data.shape[0])\n",
    "    col_effects = np.zeros(data.shape[1])\n",
    "\n",
    "    for _ in range(n_iter):\n",
    "        row_medians = np.median(data, axis=1)\n",
    "        row_effects += row_medians\n",
    "        data -= row_medians[:, np.newaxis]\n",
    "\n",
    "        col_medians = np.median(data, axis=0)\n",
    "        col_effects += col_medians\n",
    "        data -= col_medians\n",
    "\n",
    "        new_overall_effect = overall_effect + np.median(row_medians) + np.median(col_medians)\n",
    "        if np.abs(new_overall_effect - overall_effect) < tol:\n",
    "            break\n",
    "        overall_effect = new_overall_effect\n",
    "\n",
    "    residuals = data\n",
    "    return {'overall': overall_effect, 'row': row_effects, 'column': col_effects, 'residuals': residuals}\n",
    "\n",
    "# Read the data from the CSV file\n",
    "data = pd.read_csv('Merc.csv')\n",
    "\n",
    "# Convert DataFrame to NumPy array\n",
    "data_array = data.values\n",
    "\n",
    "# Perform median polish\n",
    "result = median_polish(data_array)\n",
    "\n",
    "# Extract the results\n",
    "overall = result['overall']\n",
    "row_effects = result['row']\n",
    "col_effects = result['column']\n",
    "residuals = result['residuals']\n",
    "\n",
    "# Display the results\n",
    "print(f\"Overall: {overall}\")\n",
    "print(\"\\nRow Effects:\")\n",
    "print(pd.Series(row_effects, index=data.index))\n",
    "print(\"\\nColumn Effects:\")\n",
    "print(pd.Series(col_effects, index=data.columns))\n",
    "print(\"\\nResiduals:\")\n",
    "print(pd.DataFrame(residuals, index=data.index, columns=data.columns))"
   ]
  },
  {
   "cell_type": "code",
   "execution_count": 15,
   "id": "ccf7a3ba-cc3f-4233-a975-4c6cf41af3f3",
   "metadata": {},
   "outputs": [
    {
     "name": "stdout",
     "output_type": "stream",
     "text": [
      "Friedman test statistic: 0.4000000000000057\n",
      "p-value: 0.8187307530779795\n",
      "There is no significant difference between the teaching methods.\n"
     ]
    }
   ],
   "source": [
    "# Example 2: Ordinial Data (Teaching methods) with Friedman Test\n",
    "# Rankings provided by each student\n",
    "rankings = np.array([\n",
    "    [2, 3, 1],\n",
    "    [1, 2, 3],\n",
    "    [3, 1, 2],\n",
    "    [2, 1, 3],\n",
    "    [3, 2, 1]\n",
    "])\n",
    "\n",
    "# Perform the Friedman test\n",
    "stat, p = friedmanchisquare(rankings[:, 0], rankings[:, 1], rankings[:, 2])\n",
    "\n",
    "print(f\"Friedman test statistic: {stat}\")\n",
    "print(f\"p-value: {p}\")\n",
    "\n",
    "if p < 0.05:\n",
    "    print(\"There is a significant difference between the teaching methods.\")\n",
    "else:\n",
    "    print(\"There is no significant difference between the teaching methods.\")"
   ]
  },
  {
   "cell_type": "code",
   "execution_count": 16,
   "id": "994b0bc8-41a6-47bd-a639-7cd867e4d443",
   "metadata": {},
   "outputs": [
    {
     "name": "stdout",
     "output_type": "stream",
     "text": [
      "Friedman chi-squared = 25.577, df = 5, p-value = 0.0001078\n"
     ]
    }
   ],
   "source": [
    "# Example 3. Mercury in periphyton—Friedman test\n",
    "# Read the data from the CSV file\n",
    "data = pd.read_csv('Merc.csv')\n",
    "\n",
    "# Extract the columns for the test\n",
    "Hg = data.values\n",
    "\n",
    "# Perform the Friedman test\n",
    "stat, p_value = friedmanchisquare(Hg[:, 0], Hg[:, 1], Hg[:, 2], Hg[:, 3], Hg[:, 4], Hg[:, 5])\n",
    "\n",
    "print(f\"Friedman chi-squared = {stat:.3f}, df = {Hg.shape[1] - 1}, p-value = {p_value:.7f}\")"
   ]
  },
  {
   "cell_type": "code",
   "execution_count": 19,
   "id": "476d887a-5537-4697-bba1-df3259fb3f0d",
   "metadata": {},
   "outputs": [
    {
     "name": "stdout",
     "output_type": "stream",
     "text": [
      "Friedman chi-squared = 25.577, df = 5, p-value = 0.0001078\n",
      "\n",
      "Pairwise comparisons:\n",
      "Comparison Site1 vs Site2: p-value = 0.5370940, reject H0 = False\n",
      "Comparison Site1 vs Site3: p-value = 0.0896330, reject H0 = False\n",
      "Comparison Site1 vs Site4: p-value = 0.0307536, reject H0 = False\n",
      "Comparison Site1 vs Site5: p-value = 0.0000310, reject H0 = True\n",
      "Comparison Site1 vs Site6: p-value = 0.0006871, reject H0 = True\n",
      "Comparison Site2 vs Site3: p-value = 0.2800872, reject H0 = False\n",
      "Comparison Site2 vs Site4: p-value = 0.1228226, reject H0 = False\n",
      "Comparison Site2 vs Site5: p-value = 0.0003867, reject H0 = True\n",
      "Comparison Site2 vs Site6: p-value = 0.0054786, reject H0 = False\n",
      "Comparison Site3 vs Site4: p-value = 0.6434288, reject H0 = False\n",
      "Comparison Site3 vs Site5: p-value = 0.0135547, reject H0 = False\n",
      "Comparison Site3 vs Site6: p-value = 0.0896330, reject H0 = False\n",
      "Comparison Site4 vs Site5: p-value = 0.0448623, reject H0 = False\n",
      "Comparison Site4 vs Site6: p-value = 0.2170439, reject H0 = False\n",
      "Comparison Site5 vs Site6: p-value = 0.4404007, reject H0 = False\n"
     ]
    },
    {
     "name": "stderr",
     "output_type": "stream",
     "text": [
      "/var/folders/_4/qjq3yrjn047588zvn9_fc2gc0000gn/T/ipykernel_15885/3854821561.py:11: FutureWarning: Series.__getitem__ treating keys as positions is deprecated. In a future version, integer keys will always be treated as labels (consistent with DataFrame behavior). To access a value by position, use `ser.iloc[pos]`\n",
      "  diff = np.abs(mean_ranks[i] - mean_ranks[j])\n"
     ]
    }
   ],
   "source": [
    "# Example 4. Mercury in periphyton—Pairwise Friedman comparison test.\n",
    "def pairwise_friedman(data, alpha=0.05):\n",
    "    k = data.shape[1]\n",
    "    n = data.shape[0]\n",
    "    comparisons = list(combinations(range(k), 2))\n",
    "    ranks = data.rank(axis=1)\n",
    "    mean_ranks = ranks.mean(axis=0)\n",
    "    \n",
    "    p_values = {}\n",
    "    for i, j in comparisons:\n",
    "        diff = np.abs(mean_ranks[i] - mean_ranks[j])\n",
    "        se = np.sqrt(k * (k + 1) / (6 * n))\n",
    "        z = diff / se\n",
    "        p = 2 * (1 - norm.cdf(np.abs(z)))  # Two-tailed test\n",
    "        p_values[(i, j)] = p\n",
    "    \n",
    "    # Bonferroni correction\n",
    "    bonferroni_alpha = alpha / len(comparisons)\n",
    "    reject = {comp: p < bonferroni_alpha for comp, p in p_values.items()}\n",
    "    \n",
    "    return p_values, reject\n",
    "\n",
    "from scipy.stats import norm\n",
    "\n",
    "# Read the data from the CSV file\n",
    "data = pd.read_csv('Merc.csv')\n",
    "\n",
    "# Perform the Friedman test\n",
    "stat, p_value = friedmanchisquare(*[data[col] for col in data.columns])\n",
    "\n",
    "print(f\"Friedman chi-squared = {stat:.3f}, df = {data.shape[1] - 1}, p-value = {p_value:.7f}\")\n",
    "\n",
    "\n",
    "\n",
    "# Perform pairwise comparisons with Bonferroni correction\n",
    "p_values, reject = pairwise_friedman(data)\n",
    "\n",
    "# Display results\n",
    "print(\"\\nPairwise comparisons:\")\n",
    "for (i, j), p in p_values.items():\n",
    "    print(f\"Comparison {data.columns[i]} vs {data.columns[j]}: p-value = {p:.7f}, reject H0 = {reject[(i, j)]}\")"
   ]
  }
 ],
 "metadata": {
  "kernelspec": {
   "display_name": "Python 3 (ipykernel)",
   "language": "python",
   "name": "python3"
  },
  "language_info": {
   "codemirror_mode": {
    "name": "ipython",
    "version": 3
   },
   "file_extension": ".py",
   "mimetype": "text/x-python",
   "name": "python",
   "nbconvert_exporter": "python",
   "pygments_lexer": "ipython3",
   "version": "3.12.3"
  }
 },
 "nbformat": 4,
 "nbformat_minor": 5
}
