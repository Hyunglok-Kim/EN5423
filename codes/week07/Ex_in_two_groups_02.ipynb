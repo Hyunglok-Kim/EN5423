{
 "cells": [
  {
   "cell_type": "markdown",
   "id": "768fdf24-c423-4789-a412-f0596b3167d5",
   "metadata": {},
   "source": [
    "This code is for EN5423 class at GIST, Republic of Korea, and created by Dr. Hyunglok Kim.  \n",
    "**Contact information**: hyunglokkim@gist.ac.kr  \n",
    "**License**: This work is licensed for non-commercial use only.  \n",
    "**Restrictions**: Do not use this material without permission for teaching or developing other classes."
   ]
  },
  {
   "cell_type": "code",
   "execution_count": 30,
   "id": "7c80fd3e-8b10-4307-b3d2-8136ea999cab",
   "metadata": {},
   "outputs": [],
   "source": [
    "import numpy as np\n",
    "from scipy.stats import bartlett\n",
    "import matplotlib.pyplot as plt\n",
    "from scipy.stats import mannwhitneyu\n",
    "from sklearn.utils import resample\n",
    "from scipy.stats import ranksums\n",
    "from scipy.stats import t\n",
    "from scipy.stats import fligner\n",
    "from scipy.stats import levene"
   ]
  },
  {
   "cell_type": "code",
   "execution_count": 4,
   "id": "e61b35e9-ea50-46ca-8db1-bae5f9752249",
   "metadata": {},
   "outputs": [
    {
     "name": "stdout",
     "output_type": "stream",
     "text": [
      "W-statistic: 76.50\n",
      "P-value: 0.04911\n",
      "Hodges-Lehmann Estimate: 0.505000\n",
      "95% Confidence Interval: (0.000000, 1.100000)\n"
     ]
    }
   ],
   "source": [
    "# Example 1-3 Hodges-Lehmann estimator\n",
    "def wilcoxon_rank_sum_test_with_hl_ci(x, y, alpha=0.05):\n",
    "    # Perform the Mann-Whitney U test with continuity correction\n",
    "    stat, p = mannwhitneyu(x, y, alternative='two-sided', use_continuity=True)\n",
    "\n",
    "    # Calculate all pairwise differences\n",
    "    diff = np.array([i - j for i in x for j in y])\n",
    "    sorted_diff = np.sort(diff)\n",
    "\n",
    "    # Compute the Hodges-Lehmann estimator for the median of the differences\n",
    "    hl_estimate = np.median(sorted_diff)\n",
    "\n",
    "    # The total number of pairwise differences\n",
    "    N = len(diff)\n",
    "    n = len(x)\n",
    "    m = len(y)\n",
    "    \n",
    "    # Get the critical z value for the alpha level\n",
    "    z_alpha = norm.ppf(1 - alpha / 2)\n",
    "\n",
    "    # Calculate the ranks for the confidence intervals\n",
    "    Rl = (N - z_alpha * np.sqrt(N * (n + m + 1) / 3)) / 2\n",
    "    Ru = N - Rl + 1\n",
    "\n",
    "    # Make sure ranks are within the range of the number of differences\n",
    "    Rl = max(1, min(N, int(np.floor(Rl))))\n",
    "    Ru = max(1, min(N, int(np.ceil(Ru))))\n",
    "\n",
    "    # Extract confidence intervals from the sorted differences\n",
    "    ci_lower = sorted_diff[Rl - 1]\n",
    "    ci_upper = sorted_diff[Ru - 1]\n",
    "\n",
    "    return {\n",
    "        'W-statistic': stat,\n",
    "        'p-value': p,\n",
    "        'Hodges-Lehmann estimate': hl_estimate,\n",
    "        '95% confidence interval': (ci_lower, ci_upper)\n",
    "    }\n",
    "\n",
    "# Data from the question\n",
    "X = np.array([0.59, 0.87, 1.10, 1.10, 1.20, 1.30, 1.60, 1.70, 3.20, 4.00])\n",
    "Y = np.array([0.30, 0.36, 0.50, 0.70, 0.70, 0.90, 0.92, 1.00, 1.30, 9.70])\n",
    "\n",
    "# Perform the test and output the results\n",
    "results = wilcoxon_rank_sum_test_with_hl_ci(X, Y)\n",
    "print(f\"W-statistic: {results['W-statistic']:.2f}\")\n",
    "print(f\"P-value: {results['p-value']:.5f}\")\n",
    "print(f\"Hodges-Lehmann Estimate: {results['Hodges-Lehmann estimate']:.6f}\")\n",
    "print(f\"95% Confidence Interval: ({results['95% confidence interval'][0]:.6f}, {results['95% confidence interval'][1]:.6f})\")\n"
   ]
  },
  {
   "cell_type": "code",
   "execution_count": 5,
   "id": "1be23d7b-ff21-472c-a274-c2bcdd50a4f9",
   "metadata": {},
   "outputs": [
    {
     "data": {
      "text/plain": [
       "{'W-statistic': 9.0,\n",
       " 'p-value': 0.4,\n",
       " 'Hodges-Lehmann estimate': 11.0,\n",
       " '95% confidence interval': (-12, 22)}"
      ]
     },
     "execution_count": 5,
     "metadata": {},
     "output_type": "execute_result"
    }
   ],
   "source": [
    "X = np.array([15, 17, 25])\n",
    "Y = np.array([8,27,3,5])\n",
    "\n",
    "wilcoxon_rank_sum_test_with_hl_ci(X, Y, alpha=0.05)"
   ]
  },
  {
   "cell_type": "code",
   "execution_count": 17,
   "id": "a8f2c48f-b288-47e6-a058-16027c372f82",
   "metadata": {},
   "outputs": [
    {
     "data": {
      "text/plain": [
       "(-2.0814786271765224, 2.1374786271765225)"
      ]
     },
     "execution_count": 17,
     "metadata": {},
     "output_type": "execute_result"
    }
   ],
   "source": [
    "import numpy as np\n",
    "from scipy.stats import t\n",
    "\n",
    "def welch_df(n1, s1, n2, s2):\n",
    "    numerator = (s1/n1 + s2/n2)**2\n",
    "    denominator = (s1**2 / (n1**2 * (n1 - 1))) + (s2**2 / (n2**2 * (n2 - 1)))\n",
    "    df = numerator / denominator\n",
    "    return df\n",
    "\n",
    "def welch_t_conf_interval(x_bar, s1, n1, y_bar, s2, n2, alpha=0.05):\n",
    "    df = welch_df(n1, s1, n2, s2)\n",
    "    t_crit = t.ppf(1 - alpha/2, df)\n",
    "    se = np.sqrt(s1/n1 + s2/n2)\n",
    "    margin_of_error = t_crit * se\n",
    "    diff_means = x_bar - y_bar\n",
    "    \n",
    "    lower_bound = diff_means - margin_of_error\n",
    "    upper_bound = diff_means + margin_of_error\n",
    "    \n",
    "    return (lower_bound, upper_bound)\n",
    "\n",
    "# Data for X and Y\n",
    "X = np.array([0.59, 0.87, 1.10, 1.10, 1.20, 1.30, 1.60, 1.70, 3.20, 4.00])\n",
    "Y = np.array([0.30, 0.36, 0.50, 0.70, 0.70, 0.90, 0.92, 1.00, 1.30, 9.70])\n",
    "\n",
    "# Calculating statistics for X\n",
    "x_bar = np.mean(X)\n",
    "s1 = np.var(X, ddof=1)  # Using sample variance (ddof=1)\n",
    "n1 = len(X)\n",
    "\n",
    "# Calculating statistics for Y\n",
    "y_bar = np.mean(Y)\n",
    "s2 = np.var(Y, ddof=1)  # Using sample variance (ddof=1)\n",
    "n2 = len(Y)\n",
    "\n",
    "# Calculating the 95% confidence interval\n",
    "alpha = 0.05  # 95% confidence level\n",
    "ci = welch_t_conf_interval(x_bar, s1, n1, y_bar, s2, n2, alpha)\n",
    "ci\n"
   ]
  },
  {
   "cell_type": "code",
   "execution_count": 18,
   "id": "f113c151-048b-4376-aaa8-ac73d3670f0a",
   "metadata": {},
   "outputs": [
    {
     "name": "stdout",
     "output_type": "stream",
     "text": [
      "Mean of indust: 1.665\n",
      "Mean of residen: 1.636\n",
      "Diff of means: 0.030\n",
      "95 percent confidence interval: (0.014, 0.045)\n"
     ]
    }
   ],
   "source": [
    "def bootstrap_confidence_interval(data1, data2, num_iterations=10000, alpha=0.05):\n",
    "    \"\"\"Calculate bootstrap confidence interval for the difference in means.\"\"\"\n",
    "    np.random.seed(42)  # For reproducibility\n",
    "    n1 = len(data1)\n",
    "    n2 = len(data2)\n",
    "    mean_diffs = []\n",
    "    \n",
    "    for _ in range(num_iterations):\n",
    "        sample1 = np.random.choice(data1, n1, replace=True)\n",
    "        sample2 = np.random.choice(data2, n2, replace=True)\n",
    "        mean_diff = np.mean(sample1) - np.mean(sample2)\n",
    "        mean_diffs.append(mean_diff)\n",
    "        \n",
    "    lower_bound = np.percentile(mean_diffs, (alpha/2)*100)\n",
    "    upper_bound = np.percentile(mean_diffs, (1-alpha/2)*100)\n",
    "    \n",
    "    return np.mean(data1), np.mean(data2), np.mean(mean_diffs), lower_bound, upper_bound\n",
    "\n",
    "# Assuming data follows a normal distribution around the provided means\n",
    "np.random.seed(42)\n",
    "indust = np.random.normal(1.666, 0.1, 300)  # Normal distribution around mean 1.666\n",
    "residen = np.random.normal(1.638, 0.1, 300)  # Normal distribution around mean 1.638\n",
    "\n",
    "# Compute the bootstrap confidence interval\n",
    "mean_indust, mean_residen, mean_diff, ci_lower, ci_upper = bootstrap_confidence_interval(indust, residen)\n",
    "\n",
    "print(f\"Mean of indust: {mean_indust:.3f}\")\n",
    "print(f\"Mean of residen: {mean_residen:.3f}\")\n",
    "print(f\"Diff of means: {mean_diff:.3f}\")\n",
    "print(f\"95 percent confidence interval: ({ci_lower:.3f}, {ci_upper:.3f})\")\n"
   ]
  },
  {
   "cell_type": "code",
   "execution_count": 25,
   "id": "65227d85-323c-4a3c-b8b4-5cc8d6a08911",
   "metadata": {},
   "outputs": [
    {
     "data": {
      "image/png": "[encoded data removed]",
      "text/plain": [
       "<Figure size 640x480 with 1 Axes>"
      ]
     },
     "metadata": {},
     "output_type": "display_data"
    },
    {
     "name": "stdout",
     "output_type": "stream",
     "text": [
      "Number of significant tests (out of 1000): 554\n"
     ]
    }
   ],
   "source": [
    "# Example 4 Simulating Bartlett's Test on Lognormal Data\n",
    "def simulate_bartlett_test(mean_log, sd_log, num_samples, num_repetitions):\n",
    "    \"\"\"Simulate Bartlett's test on lognormal data across multiple repetitions.\n",
    "\n",
    "    Args:\n",
    "        mean_log (float): Mean of the logarithm of the distribution.\n",
    "        sd_log (float): Standard deviation of the logarithm of the distribution.\n",
    "        num_samples (int): Number of observations in each simulated group.\n",
    "        num_repetitions (int): Number of repetitions for the simulation.\n",
    "\n",
    "    Returns:\n",
    "        list: p-values from each repetition's Bartlett's test.\n",
    "    \"\"\"\n",
    "    p_values = []\n",
    "    \n",
    "    for _ in range(num_repetitions):\n",
    "        # Generate two groups of lognormal data\n",
    "        data1 = np.random.lognormal(mean_log, sd_log, num_samples)\n",
    "        data2 = np.random.lognormal(mean_log, sd_log, num_samples)\n",
    "        \n",
    "        # Perform Bartlett's test on the two groups\n",
    "        _, p_value = bartlett(data1, data2)\n",
    "        p_values.append(p_value)\n",
    "    \n",
    "    return p_values\n",
    "\n",
    "# Parameters\n",
    "mean_log = 0.7\n",
    "sd_log = 1\n",
    "num_samples = 50\n",
    "num_repetitions = 1000\n",
    "\n",
    "# Run simulation\n",
    "p_values = simulate_bartlett_test(mean_log, sd_log, num_samples, num_repetitions)\n",
    "\n",
    "# Plotting the histogram of p-values\n",
    "plt.hist(p_values, bins=30, color='blue', alpha=0.7)\n",
    "plt.title('Histogram of P-values from Bartlett’s Test')\n",
    "plt.xlabel('P-value')\n",
    "plt.ylabel('Frequency')\n",
    "plt.show()\n",
    "\n",
    "# Assess how many p-values are below 0.05 (significance level)\n",
    "significant_tests = sum(p < 0.05 for p in p_values)\n",
    "print(f\"Number of significant tests (out of {num_repetitions}): {significant_tests}\")"
   ]
  },
  {
   "cell_type": "code",
   "execution_count": 29,
   "id": "7a4801d3-badd-4f63-a045-495fa5032cd9",
   "metadata": {},
   "outputs": [
    {
     "name": "stdout",
     "output_type": "stream",
     "text": [
      "Fligner-Killeen test of homogeneity of variances\n",
      "data: data and groups\n",
      "Fligner-Killeen: med chi-squared = 0.17314, p-value = 0.6773\n"
     ]
    }
   ],
   "source": [
    "# Example 5 Fligner-Killeen Test for Equal Variance (Nonparametric)\n",
    "# Parameters for the lognormal distribution\n",
    "mean_log = 0.7\n",
    "sd_log = 1\n",
    "\n",
    "# Generate two groups from the same lognormal distribution\n",
    "group1 = np.random.lognormal(mean_log, sd_log, 2000)\n",
    "group2 = np.random.lognormal(mean_log, sd_log, 2000)\n",
    "\n",
    "# Combine the groups for testing\n",
    "data = np.concatenate((group1, group2))\n",
    "groups = ['group1']*2000 + ['group2']*2000\n",
    "\n",
    "# Conduct the Fligner-Killeen test of homogeneity of variances\n",
    "stat, p_value = fligner(group1, group2)\n",
    "\n",
    "print(\"Fligner-Killeen test of homogeneity of variances\")\n",
    "print(f\"data: data and groups\")\n",
    "print(f\"Fligner-Killeen: med chi-squared = {stat:.5f}, p-value = {p_value:.4f}\")"
   ]
  },
  {
   "cell_type": "code",
   "execution_count": 31,
   "id": "757f28d9-a801-4e09-9857-6fcce022f061",
   "metadata": {},
   "outputs": [
    {
     "name": "stdout",
     "output_type": "stream",
     "text": [
      "Levene’s Test for Homogeneity of Variance (center = median)\n",
      "Group degrees of freedom: 1, F value: 0.4547, p-value: 0.5017\n"
     ]
    }
   ],
   "source": [
    "# Eample 6 Levene’s Test for Equal Variance (Parametric)\n",
    "val_expl = np.random.lognormal(mean=0.7, sigma=1, size=100)  # Example data generation\n",
    "group = np.array([1]*50 + [2]*50)  # Example grouping\n",
    "\n",
    "# Performing Levene's Test for Homogeneity of Variances using median as the center\n",
    "stat, p_value = levene(val_expl[group == 1], val_expl[group == 2], center='median')\n",
    "\n",
    "# Printing the results\n",
    "print(\"Levene’s Test for Homogeneity of Variance (center = median)\")\n",
    "print(f\"Group degrees of freedom: 1, F value: {stat:.4f}, p-value: {p_value:.4f}\")"
   ]
  }
 ],
 "metadata": {
  "kernelspec": {
   "display_name": "Python 3 (ipykernel)",
   "language": "python",
   "name": "python3"
  },
  "language_info": {
   "codemirror_mode": {
    "name": "ipython",
    "version": 3
   },
   "file_extension": ".py",
   "mimetype": "text/x-python",
   "name": "python",
   "nbconvert_exporter": "python",
   "pygments_lexer": "ipython3",
   "version": "3.12.3"
  }
 },
 "nbformat": 4,
 "nbformat_minor": 5
}
